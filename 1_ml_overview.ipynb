{
 "cells": [
  {
   "cell_type": "markdown",
   "id": "c63ec519",
   "metadata": {
    "slideshow": {
     "slide_type": "slide"
    }
   },
   "source": [
    "# Machine learning overview"
   ]
  },
  {
   "cell_type": "markdown",
   "id": "dc568d00",
   "metadata": {
    "slideshow": {
     "slide_type": "skip"
    }
   },
   "source": [
    "[![Open In Colab](https://colab.research.google.com/assets/colab-badge.svg)](https://colab.research.google.com/github/insop/ML_crash_course/blob/main/1_ml_overview.ipynb)"
   ]
  },
  {
   "cell_type": "markdown",
   "id": "c4919f42",
   "metadata": {
    "slideshow": {
     "slide_type": "slide"
    }
   },
   "source": [
    "## Outline\n",
    "\n",
    "- Objectives\n",
    "- Target audiences\n",
    "- Machine learning: what and examples\n",
    "- Types of machine learning systems\n",
    "- A short example\n",
    "- Tutorials: numpy, pandas"
   ]
  },
  {
   "cell_type": "markdown",
   "id": "314c12fe",
   "metadata": {
    "slideshow": {
     "slide_type": "slide"
    }
   },
   "source": [
    "## Objectives\n",
    "- discuss high level ML overview\n",
    "- review representative ML systems\n",
    "- able to identify potential areas that AI/ML could be helpful\n",
    "- understand the development cycle of AI/ML applications\n",
    "- understand the end-to-end view of AI/ML applications"
   ]
  },
  {
   "cell_type": "markdown",
   "id": "8196c2c0",
   "metadata": {
    "slideshow": {
     "slide_type": "slide"
    }
   },
   "source": [
    "## Target audiences\n",
    "- want to understand the high level view\n",
    "    - read the notebook\n",
    "- want to know how internals of ML system works\n",
    "    - run the code in the notebook\n",
    "- want to know\n",
    "    - look at the material provided as references"
   ]
  },
  {
   "cell_type": "markdown",
   "id": "fb0cca02",
   "metadata": {
    "slideshow": {
     "slide_type": "slide"
    }
   },
   "source": [
    "## Machine learning: what and examples"
   ]
  },
  {
   "cell_type": "markdown",
   "id": "8270f252",
   "metadata": {
    "slideshow": {
     "slide_type": "slide"
    }
   },
   "source": [
    "### What is machine learning?\n",
    "\n",
    "- a predictor $f$ takes some input $x$ and generates output $\\hat{y}$\n",
    "    - $x$ $\\rightarrow$ $f$ $\\rightarrow$ $\\hat{y}$\n",
    "- a predictor $f$ learns from training dataset\n",
    "- to learn, prediction performance needs to be measured, such as prediction accuracy\n",
    "- a predictor usually call ML model\n",
    "- input can be structured or unstructured data"
   ]
  },
  {
   "cell_type": "markdown",
   "id": "dff94469",
   "metadata": {
    "slideshow": {
     "slide_type": "notes"
    }
   },
   "source": [
    "Machine learning is subfield of artificial intellegence, which includes statical machine learning and artificial neural netowrks.\n",
    "\n",
    "In the following, we will introduce three task areas of ML: classfication, regressions, other types of prediction tasks."
   ]
  },
  {
   "cell_type": "markdown",
   "id": "9cc8cef5",
   "metadata": {
    "slideshow": {
     "slide_type": "slide"
    }
   },
   "source": [
    "#### Classification\n",
    "\n",
    "- a binary classification predicts positive or negative output\n",
    "    - $x$ $\\rightarrow$ $f$ $\\rightarrow$ $0$ or $1$\n",
    "- examples of binary classfication\n",
    "    - spam detection, is spam or not?\n",
    "    - tagging offensive comments on discussion forums\n",
    "- $k$ multiclass classification predicts one of $k$ classes\n",
    "    - $x$ $\\rightarrow$ $f$ $\\rightarrow$ $0, 1, ..., (k-1)$\n",
    "- examples of multiclass classfication\n",
    "    - image classification\n",
    "    - digit classification"
   ]
  },
  {
   "cell_type": "markdown",
   "id": "00907281",
   "metadata": {
    "slideshow": {
     "slide_type": "notes"
    }
   },
   "source": [
    "Note that the binary classification is also known as a logistic regression, do not confused with the following regression task. Each dataset consist of an input and output label, which is a ground truth class for supervised training. We will discuss more on supervised machine learning."
   ]
  },
  {
   "cell_type": "markdown",
   "id": "df96cae0",
   "metadata": {
    "slideshow": {
     "slide_type": "slide"
    }
   },
   "source": [
    "#### Regression\n",
    "- prediction output is real number, $\\hat{y} \\in \\mathbb{R}$\n",
    "- examples\n",
    "    - housing price prediction given many features of the house\n",
    "    - forcasting cmopany's revenue next year based on performance metrics\n"
   ]
  },
  {
   "cell_type": "markdown",
   "id": "fede6635",
   "metadata": {
    "slideshow": {
     "slide_type": "notes"
    }
   },
   "source": [
    "Regression is also called as linear regression, which has long history dated back 1809 by Gauss and  Legendre."
   ]
  },
  {
   "cell_type": "markdown",
   "id": "72ebe215",
   "metadata": {
    "slideshow": {
     "slide_type": "slide"
    }
   },
   "source": [
    "#### Other types of prediction tasks\n",
    "- any other types of model predicts complex objects\n",
    "- task could often decomposed or cascade with one or more classification and regression tasks\n",
    "- examples:\n",
    "    - object detection: predicts object types and locations\n",
    "    - language translatoin: given input language and translate to other language"
   ]
  },
  {
   "cell_type": "markdown",
   "id": "baf0e480",
   "metadata": {
    "slideshow": {
     "slide_type": "notes"
    }
   },
   "source": [
    "The other types of tasks sound daunting, but they are essentially built by more simpler regression and classfication tassk."
   ]
  },
  {
   "cell_type": "markdown",
   "id": "fa671d68",
   "metadata": {
    "slideshow": {
     "slide_type": "slide"
    }
   },
   "source": [
    "## Types of machine learning systems\n",
    "- Supervised learning\n",
    "- Unsupervised learning\n",
    "- Reinforcement learning"
   ]
  },
  {
   "cell_type": "markdown",
   "id": "125d500a",
   "metadata": {
    "slideshow": {
     "slide_type": "slide"
    }
   },
   "source": [
    "### *Supervised learning"
   ]
  },
  {
   "cell_type": "markdown",
   "id": "61b9b22e",
   "metadata": {},
   "source": [
    "### *Unsupervised learning"
   ]
  },
  {
   "cell_type": "markdown",
   "id": "36e22224",
   "metadata": {},
   "source": [
    "### *Reinforcement learning"
   ]
  },
  {
   "cell_type": "markdown",
   "id": "8367d072",
   "metadata": {
    "slideshow": {
     "slide_type": "slide"
    }
   },
   "source": [
    "## Short ML example\n",
    "\n",
    "We will see a simple ML example that predict $y$ value give $x$ value, which is regression type of ML. The following [code](https://github.com/ageron/handson-ml2/blob/3cffb49fffb4d79db5e68de1fc5f91d5e74262e8/01_the_machine_learning_landscape.ipynb) is from book [1]."
   ]
  },
  {
   "cell_type": "markdown",
   "id": "5205ee98",
   "metadata": {
    "slideshow": {
     "slide_type": "skip"
    }
   },
   "source": [
    "Import python modules, [sklearn](https://scikit-learn.org/stable) provide many of the widely used ML models."
   ]
  },
  {
   "cell_type": "code",
   "execution_count": null,
   "id": "b2a308c6",
   "metadata": {
    "slideshow": {
     "slide_type": "skip"
    }
   },
   "outputs": [],
   "source": [
    "import sklearn\n",
    "import sys\n",
    "\n",
    "import matplotlib.pyplot as plt # graph\n",
    "import numpy as np # number handling\n",
    "import pandas as pd # structured data handling\n",
    "import sklearn.linear_model\n",
    "import os"
   ]
  },
  {
   "cell_type": "markdown",
   "id": "83668657",
   "metadata": {
    "slideshow": {
     "slide_type": "skip"
    }
   },
   "source": [
    "A helper function to prepare dataset using OECD's life satisfaction values and the IMF's GDP per capita."
   ]
  },
  {
   "cell_type": "code",
   "execution_count": null,
   "id": "0c6463f5",
   "metadata": {
    "slideshow": {
     "slide_type": "skip"
    }
   },
   "outputs": [],
   "source": [
    "def prepare_country_stats(oecd_bli, gdp_per_capita):\n",
    "    oecd_bli = oecd_bli[oecd_bli[\"INEQUALITY\"]==\"TOT\"]\n",
    "    oecd_bli = oecd_bli.pivot(index=\"Country\", columns=\"Indicator\", values=\"Value\")\n",
    "    gdp_per_capita.rename(columns={\"2015\": \"GDP per capita\"}, inplace=True)\n",
    "    gdp_per_capita.set_index(\"Country\", inplace=True)\n",
    "    full_country_stats = pd.merge(left=oecd_bli, right=gdp_per_capita,\n",
    "                                  left_index=True, right_index=True)\n",
    "    full_country_stats.sort_values(by=\"GDP per capita\", inplace=True)\n",
    "    remove_indices = [0, 1, 6, 8, 33, 34, 35]\n",
    "    keep_indices = list(set(range(36)) - set(remove_indices))\n",
    "    return full_country_stats[[\"GDP per capita\", 'Life satisfaction']].iloc[keep_indices]"
   ]
  },
  {
   "cell_type": "code",
   "execution_count": null,
   "id": "acc3c311",
   "metadata": {
    "slideshow": {
     "slide_type": "skip"
    }
   },
   "outputs": [],
   "source": [
    "# To plot pretty figures directly within Jupyter\n",
    "%matplotlib inline\n",
    "import matplotlib as mpl\n",
    "mpl.rc('axes', labelsize=14)\n",
    "mpl.rc('xtick', labelsize=12)\n",
    "mpl.rc('ytick', labelsize=12)"
   ]
  },
  {
   "cell_type": "code",
   "execution_count": null,
   "id": "6c072de2",
   "metadata": {
    "slideshow": {
     "slide_type": "skip"
    }
   },
   "outputs": [],
   "source": [
    "# prepare download path\n",
    "datapath = os.path.join(\"datasets\", \"lifesat\", \"\")"
   ]
  },
  {
   "cell_type": "code",
   "execution_count": null,
   "id": "7b35792a",
   "metadata": {
    "slideshow": {
     "slide_type": "skip"
    }
   },
   "outputs": [],
   "source": [
    "# Download the training dataset\n",
    "import urllib.request\n",
    "DOWNLOAD_ROOT = \"https://raw.githubusercontent.com/ageron/handson-ml2/master/\"\n",
    "os.makedirs(datapath, exist_ok=True)\n",
    "for filename in (\"oecd_bli_2015.csv\", \"gdp_per_capita.csv\"):\n",
    "    print(\"Downloading\", filename)\n",
    "    url = DOWNLOAD_ROOT + \"datasets/lifesat/\" + filename\n",
    "    urllib.request.urlretrieve(url, datapath + filename)"
   ]
  },
  {
   "cell_type": "code",
   "execution_count": null,
   "id": "b64b3432",
   "metadata": {
    "slideshow": {
     "slide_type": "skip"
    }
   },
   "outputs": [],
   "source": [
    "# load training data and prepare input dataset\n",
    "\n",
    "oecd_bli = pd.read_csv(datapath + \"oecd_bli_2015.csv\", thousands=',')\n",
    "gdp_per_capita = pd.read_csv(datapath + \"gdp_per_capita.csv\",thousands=',',delimiter='\\t',\n",
    "                             encoding='latin1', na_values=\"n/a\")\n",
    "\n",
    "# Prepare the data\n",
    "country_stats = prepare_country_stats(oecd_bli, gdp_per_capita)\n",
    "X = np.c_[country_stats[\"GDP per capita\"]]\n",
    "y = np.c_[country_stats[\"Life satisfaction\"]]"
   ]
  },
  {
   "cell_type": "code",
   "execution_count": null,
   "id": "b1d26631",
   "metadata": {
    "slideshow": {
     "slide_type": "skip"
    }
   },
   "outputs": [],
   "source": [
    "# Visualize the training dataset\n",
    "country_stats.plot(kind='scatter', x=\"GDP per capita\", y='Life satisfaction')\n",
    "plt.show()"
   ]
  },
  {
   "cell_type": "markdown",
   "id": "8a24245b",
   "metadata": {
    "slideshow": {
     "slide_type": "skip"
    }
   },
   "source": [
    "The follosing two lines of code trains the ML model (linear regression)"
   ]
  },
  {
   "cell_type": "code",
   "execution_count": null,
   "id": "f46b496c",
   "metadata": {
    "slideshow": {
     "slide_type": "skip"
    }
   },
   "outputs": [],
   "source": [
    "# Select a linear model\n",
    "model = sklearn.linear_model.LinearRegression()\n",
    "\n",
    "# Train the model\n",
    "reg = model.fit(X, y)"
   ]
  },
  {
   "cell_type": "markdown",
   "id": "165237dc",
   "metadata": {},
   "source": [
    "We can check this linear equation\n",
    "$y = \\theta_0 x + \\theta_1$, \n",
    "\n",
    "where $x$ is \"GDP per capita\", $y$ is \"Life satisfaction\""
   ]
  },
  {
   "cell_type": "code",
   "execution_count": null,
   "id": "cd8e508e",
   "metadata": {},
   "outputs": [],
   "source": [
    "𝜃1 = reg.coef_[0][0]\n",
    "𝜃0 = reg.intercept_[0]\n",
    "print(f\"y = {𝜃1:.6f}x + {𝜃0:.2f}\")"
   ]
  },
  {
   "cell_type": "markdown",
   "id": "00cc9d0b",
   "metadata": {},
   "source": [
    "Now we can plot the linear equation on top of the training dataset."
   ]
  },
  {
   "cell_type": "code",
   "execution_count": null,
   "id": "35d5fd95",
   "metadata": {},
   "outputs": [],
   "source": [
    "country_stats.plot(kind='scatter', x=\"GDP per capita\", y='Life satisfaction')\n",
    "\n",
    "plt.axis([0, 60000, 0, 10])\n",
    "X=np.linspace(0, 60000, 1000)\n",
    "plt.plot(X, 𝜃0 + 𝜃1*X, \"r\")\n",
    "plt.text(5000, 3.1, r\"$\\theta_0$ = {:.2f}\".format(𝜃0), fontsize=14, color=\"b\")\n",
    "plt.text(5000, 2.2, r\"$\\theta_1$ = {:.6f}\".format(𝜃1), fontsize=14, color=\"b\")\n",
    "plt.show()"
   ]
  },
  {
   "cell_type": "markdown",
   "id": "ea974932",
   "metadata": {
    "slideshow": {
     "slide_type": "skip"
    }
   },
   "source": [
    "Now we can make prediction for Cyprus."
   ]
  },
  {
   "cell_type": "code",
   "execution_count": null,
   "id": "87bb43ce",
   "metadata": {},
   "outputs": [],
   "source": [
    "cyprus_gdp_per_capita = gdp_per_capita.loc[\"Cyprus\"][\"GDP per capita\"]\n",
    "print(\"Cyprus's GDP per capita {}\".format(cyprus_gdp_per_capita))\n"
   ]
  },
  {
   "cell_type": "code",
   "execution_count": null,
   "id": "405c9f9a",
   "metadata": {
    "slideshow": {
     "slide_type": "skip"
    }
   },
   "outputs": [],
   "source": [
    "# Make a prediction for Cyprus\n",
    "\n",
    "cyprus_predicted_life_satisfaction = model.predict([[cyprus_gdp_per_capita]])[0][0]\n",
    "cyprus_predicted_life_satisfaction\n",
    "\n",
    "print(\"Life satisfaction of Cyprus is: {}\".format(cyprus_predicted_life_satisfaction))"
   ]
  },
  {
   "cell_type": "markdown",
   "id": "78114a10",
   "metadata": {},
   "source": [
    "We can plot our prediction overlay with the linear equation and training data."
   ]
  },
  {
   "cell_type": "code",
   "execution_count": null,
   "id": "24495d84",
   "metadata": {},
   "outputs": [],
   "source": [
    "country_stats.plot(kind='scatter', x=\"GDP per capita\", y='Life satisfaction')\n",
    "\n",
    "plt.axis([0, 60000, 0, 10])\n",
    "X=np.linspace(0, 60000, 1000)\n",
    "plt.plot(X, 𝜃0 + 𝜃1*X, \"r\")\n",
    "plt.text(5000, 3.1, r\"$\\theta_0$ = {:.2f}\".format(𝜃0), fontsize=14, color=\"b\")\n",
    "plt.text(5000, 2.2, r\"$\\theta_1$ = {:.6f}\".format(𝜃1), fontsize=14, color=\"b\")\n",
    "\n",
    "plt.plot([cyprus_gdp_per_capita, cyprus_gdp_per_capita], [0, cyprus_predicted_life_satisfaction], \"r--\")\n",
    "plt.text(25000, 5.0, r\"Prediction = {:.2f}\".format(cyprus_predicted_life_satisfaction), fontsize=14, color=\"b\")\n",
    "plt.plot(cyprus_gdp_per_capita, cyprus_predicted_life_satisfaction, \"rx\")\n",
    "\n",
    "plt.show()"
   ]
  },
  {
   "cell_type": "markdown",
   "id": "94000a56",
   "metadata": {
    "slideshow": {
     "slide_type": "slide"
    }
   },
   "source": [
    "## Credits"
   ]
  },
  {
   "cell_type": "markdown",
   "id": "94b086d4",
   "metadata": {},
   "source": [
    "This note book follws ..."
   ]
  },
  {
   "cell_type": "markdown",
   "id": "278f8bad",
   "metadata": {
    "slideshow": {
     "slide_type": "slide"
    }
   },
   "source": [
    "## References"
   ]
  },
  {
   "cell_type": "markdown",
   "id": "5a04e0e2",
   "metadata": {},
   "source": [
    "1. Chapter 1 from Book [Hands-on Machine Learning with Scikit-Learn, Keras and TensorFlow](https://www.oreilly.com/library/view/hands-on-machine-learning/9781492032632/)\n",
    "2. Code example [01_the_machine_learning_landscape](https://github.com/ageron/handson-ml2/blob/3cffb49fffb4d79db5e68de1fc5f91d5e74262e8/01_the_machine_learning_landscape.ipynb)"
   ]
  },
  {
   "cell_type": "code",
   "execution_count": null,
   "id": "52cd5904",
   "metadata": {},
   "outputs": [],
   "source": []
  }
 ],
 "metadata": {
  "celltoolbar": "Slideshow",
  "kernelspec": {
   "display_name": "Python 3 (ipykernel)",
   "language": "python",
   "name": "python3"
  },
  "language_info": {
   "codemirror_mode": {
    "name": "ipython",
    "version": 3
   },
   "file_extension": ".py",
   "mimetype": "text/x-python",
   "name": "python",
   "nbconvert_exporter": "python",
   "pygments_lexer": "ipython3",
   "version": "3.8.8"
  }
 },
 "nbformat": 4,
 "nbformat_minor": 5
}

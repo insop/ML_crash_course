{
 "cells": [
  {
   "cell_type": "markdown",
   "id": "847e31f8",
   "metadata": {
    "slideshow": {
     "slide_type": "slide"
    }
   },
   "source": [
    "# Machine learning overview"
   ]
  },
  {
   "cell_type": "markdown",
   "id": "5801ad35",
   "metadata": {
    "slideshow": {
     "slide_type": "skip"
    }
   },
   "source": [
    "[![Open In Colab](https://colab.research.google.com/assets/colab-badge.svg)](https://colab.research.google.com/github/insop/ML_crash_course/blob/main/1_ml_overview.ipynb)"
   ]
  },
  {
   "cell_type": "markdown",
   "id": "d2ac1b21",
   "metadata": {
    "slideshow": {
     "slide_type": "slide"
    }
   },
   "source": [
    "## Outline\n",
    "\n",
    "- Objectives\n",
    "- Target audiences\n",
    "- Machine learning: what and why\n",
    "- Examples of machine learning\n",
    "- Types of machine learning systems\n",
    "- A short example\n",
    "- Tutorials: numpy, pandas"
   ]
  },
  {
   "cell_type": "markdown",
   "id": "70ac7ef8",
   "metadata": {
    "slideshow": {
     "slide_type": "slide"
    }
   },
   "source": [
    "## Objectives\n",
    "- discuss high level ML overview\n",
    "- review representative ML systems\n",
    "- able to identify potential areas that AI/ML could be helpful\n",
    "- understand the development cycle of AI/ML applications\n",
    "- understand the end-to-end view of AI/ML applications"
   ]
  },
  {
   "cell_type": "markdown",
   "id": "230a3368",
   "metadata": {
    "slideshow": {
     "slide_type": "slide"
    }
   },
   "source": [
    "## Target audiences\n",
    "- want to understand the high level view\n",
    "    - read the notebook\n",
    "- want to know how internals of ML system works\n",
    "    - run the code in the notebook\n",
    "- want to know\n",
    "    - look at the material provided as references"
   ]
  },
  {
   "cell_type": "markdown",
   "id": "adf5126d",
   "metadata": {
    "slideshow": {
     "slide_type": "slide"
    }
   },
   "source": [
    "## Machine learning: what and why"
   ]
  },
  {
   "cell_type": "markdown",
   "id": "bc840580",
   "metadata": {
    "slideshow": {
     "slide_type": "slide"
    }
   },
   "source": [
    "### *What is machine learning?"
   ]
  },
  {
   "cell_type": "markdown",
   "id": "9efd9ea8",
   "metadata": {
    "slideshow": {
     "slide_type": "slide"
    }
   },
   "source": [
    "### *Why use machine learning?"
   ]
  },
  {
   "cell_type": "markdown",
   "id": "24c47d9f",
   "metadata": {
    "slideshow": {
     "slide_type": "slide"
    }
   },
   "source": [
    "## *Examples of applications"
   ]
  },
  {
   "cell_type": "markdown",
   "id": "9cbcb1a9",
   "metadata": {},
   "source": [
    "app with pictures.."
   ]
  },
  {
   "cell_type": "markdown",
   "id": "f83b8e24",
   "metadata": {
    "slideshow": {
     "slide_type": "slide"
    }
   },
   "source": [
    "## Types of machine learning systems\n",
    "- Supervised learning\n",
    "- Unsupervised learning\n",
    "- Reinforcement learning"
   ]
  },
  {
   "cell_type": "markdown",
   "id": "53ab07e9",
   "metadata": {
    "slideshow": {
     "slide_type": "slide"
    }
   },
   "source": [
    "### *Supervised learning"
   ]
  },
  {
   "cell_type": "markdown",
   "id": "300a81b9",
   "metadata": {},
   "source": [
    "### *Unsupervised learning"
   ]
  },
  {
   "cell_type": "markdown",
   "id": "8facf23c",
   "metadata": {},
   "source": [
    "### *Reinforcement learning"
   ]
  },
  {
   "cell_type": "markdown",
   "id": "fb74de9b",
   "metadata": {
    "slideshow": {
     "slide_type": "slide"
    }
   },
   "source": [
    "## Short ML example\n",
    "\n",
    "We will see a simple ML example that predict 'y' value give 'x' value. The following [code](https://github.com/ageron/handson-ml2/blob/3cffb49fffb4d79db5e68de1fc5f91d5e74262e8/01_the_machine_learning_landscape.ipynb) is from book [1]."
   ]
  },
  {
   "cell_type": "markdown",
   "id": "5acadc07",
   "metadata": {
    "slideshow": {
     "slide_type": "skip"
    }
   },
   "source": [
    "Import python modules, [sklearn](https://scikit-learn.org/stable) provide many of the widely used ML models."
   ]
  },
  {
   "cell_type": "code",
   "execution_count": 10,
   "id": "37beaf27",
   "metadata": {
    "slideshow": {
     "slide_type": "skip"
    }
   },
   "outputs": [],
   "source": [
    "import sklearn\n",
    "import sys\n",
    "\n",
    "import matplotlib.pyplot as plt # graph\n",
    "import numpy as np # number handling\n",
    "import pandas as pd # structured data handling\n",
    "import sklearn.linear_model\n",
    "import os"
   ]
  },
  {
   "cell_type": "markdown",
   "id": "3dd68294",
   "metadata": {
    "slideshow": {
     "slide_type": "skip"
    }
   },
   "source": [
    "A helper function to prepare dataset using OECD's life satisfaction values and the IMF's GDP per capita."
   ]
  },
  {
   "cell_type": "code",
   "execution_count": 6,
   "id": "d8ca9463",
   "metadata": {
    "slideshow": {
     "slide_type": "skip"
    }
   },
   "outputs": [],
   "source": [
    "def prepare_country_stats(oecd_bli, gdp_per_capita):\n",
    "    oecd_bli = oecd_bli[oecd_bli[\"INEQUALITY\"]==\"TOT\"]\n",
    "    oecd_bli = oecd_bli.pivot(index=\"Country\", columns=\"Indicator\", values=\"Value\")\n",
    "    gdp_per_capita.rename(columns={\"2015\": \"GDP per capita\"}, inplace=True)\n",
    "    gdp_per_capita.set_index(\"Country\", inplace=True)\n",
    "    full_country_stats = pd.merge(left=oecd_bli, right=gdp_per_capita,\n",
    "                                  left_index=True, right_index=True)\n",
    "    full_country_stats.sort_values(by=\"GDP per capita\", inplace=True)\n",
    "    remove_indices = [0, 1, 6, 8, 33, 34, 35]\n",
    "    keep_indices = list(set(range(36)) - set(remove_indices))\n",
    "    return full_country_stats[[\"GDP per capita\", 'Life satisfaction']].iloc[keep_indices]"
   ]
  },
  {
   "cell_type": "code",
   "execution_count": null,
   "id": "0bf5c795",
   "metadata": {
    "slideshow": {
     "slide_type": "skip"
    }
   },
   "outputs": [],
   "source": [
    "# To plot pretty figures directly within Jupyter\n",
    "%matplotlib inline\n",
    "import matplotlib as mpl\n",
    "mpl.rc('axes', labelsize=14)\n",
    "mpl.rc('xtick', labelsize=12)\n",
    "mpl.rc('ytick', labelsize=12)"
   ]
  },
  {
   "cell_type": "code",
   "execution_count": 7,
   "id": "e9021ccf",
   "metadata": {
    "slideshow": {
     "slide_type": "skip"
    }
   },
   "outputs": [],
   "source": [
    "# prepare download path\n",
    "datapath = os.path.join(\"datasets\", \"lifesat\", \"\")"
   ]
  },
  {
   "cell_type": "code",
   "execution_count": 9,
   "id": "ac4aa75c",
   "metadata": {
    "slideshow": {
     "slide_type": "skip"
    }
   },
   "outputs": [
    {
     "name": "stdout",
     "output_type": "stream",
     "text": [
      "Downloading oecd_bli_2015.csv\n",
      "Downloading gdp_per_capita.csv\n"
     ]
    }
   ],
   "source": [
    "# Download the data\n",
    "import urllib.request\n",
    "DOWNLOAD_ROOT = \"https://raw.githubusercontent.com/ageron/handson-ml2/master/\"\n",
    "os.makedirs(datapath, exist_ok=True)\n",
    "for filename in (\"oecd_bli_2015.csv\", \"gdp_per_capita.csv\"):\n",
    "    print(\"Downloading\", filename)\n",
    "    url = DOWNLOAD_ROOT + \"datasets/lifesat/\" + filename\n",
    "    urllib.request.urlretrieve(url, datapath + filename)"
   ]
  },
  {
   "cell_type": "code",
   "execution_count": 12,
   "id": "918ef138",
   "metadata": {
    "slideshow": {
     "slide_type": "skip"
    }
   },
   "outputs": [],
   "source": [
    "# load data and prepare input dataset\n",
    "\n",
    "oecd_bli = pd.read_csv(datapath + \"oecd_bli_2015.csv\", thousands=',')\n",
    "gdp_per_capita = pd.read_csv(datapath + \"gdp_per_capita.csv\",thousands=',',delimiter='\\t',\n",
    "                             encoding='latin1', na_values=\"n/a\")\n",
    "\n",
    "# Prepare the data\n",
    "country_stats = prepare_country_stats(oecd_bli, gdp_per_capita)\n",
    "X = np.c_[country_stats[\"GDP per capita\"]]\n",
    "y = np.c_[country_stats[\"Life satisfaction\"]]"
   ]
  },
  {
   "cell_type": "code",
   "execution_count": 19,
   "id": "ff2fb51c",
   "metadata": {
    "slideshow": {
     "slide_type": "skip"
    }
   },
   "outputs": [
    {
     "data": {
      "image/png": "[encoded data removed]",
      "text/plain": [
       "<Figure size 432x288 with 1 Axes>"
      ]
     },
     "metadata": {
      "needs_background": "light"
     },
     "output_type": "display_data"
    }
   ],
   "source": [
    "# Visualize the data\n",
    "country_stats.plot(kind='scatter', x=\"GDP per capita\", y='Life satisfaction')\n",
    "plt.show()"
   ]
  },
  {
   "cell_type": "markdown",
   "id": "0f501bdd",
   "metadata": {
    "slideshow": {
     "slide_type": "skip"
    }
   },
   "source": [
    "The follosing two lines of code trains the ML model (linear regression)"
   ]
  },
  {
   "cell_type": "code",
   "execution_count": 20,
   "id": "b3805f3b",
   "metadata": {
    "slideshow": {
     "slide_type": "skip"
    }
   },
   "outputs": [
    {
     "data": {
      "text/plain": [
       "LinearRegression()"
      ]
     },
     "execution_count": 20,
     "metadata": {},
     "output_type": "execute_result"
    }
   ],
   "source": [
    "# Select a linear model\n",
    "model = sklearn.linear_model.LinearRegression()\n",
    "\n",
    "# Train the model\n",
    "model.fit(X, y)"
   ]
  },
  {
   "cell_type": "markdown",
   "id": "5229e1a3",
   "metadata": {
    "slideshow": {
     "slide_type": "skip"
    }
   },
   "source": [
    "Now we can make prediction "
   ]
  },
  {
   "cell_type": "code",
   "execution_count": 34,
   "id": "1bdaee00",
   "metadata": {
    "slideshow": {
     "slide_type": "skip"
    }
   },
   "outputs": [
    {
     "name": "stdout",
     "output_type": "stream",
     "text": [
      "Life satisfaction of GDP (22587) : 5.962423376619663\n"
     ]
    }
   ],
   "source": [
    "# Make a prediction for Cyprus\n",
    "X_new = [[22587]]  # Cyprus' GDP per capita\n",
    "Y_predict = model.predict(X_new)\n",
    "\n",
    "print(\"Life satisfaction of GDP ({}) : {}\".format(X_new[0][0], Y_predict[0][0]))"
   ]
  },
  {
   "cell_type": "markdown",
   "id": "f4a2f80f",
   "metadata": {
    "slideshow": {
     "slide_type": "slide"
    }
   },
   "source": [
    "## Credits"
   ]
  },
  {
   "cell_type": "markdown",
   "id": "9ff0cc33",
   "metadata": {},
   "source": [
    "This note book follws ..."
   ]
  },
  {
   "cell_type": "markdown",
   "id": "8d5f7c20",
   "metadata": {
    "slideshow": {
     "slide_type": "slide"
    }
   },
   "source": [
    "## References"
   ]
  },
  {
   "cell_type": "markdown",
   "id": "daea3c47",
   "metadata": {},
   "source": [
    "1. Book [Hands-on Machine Learning with Scikit-Learn, Keras and TensorFlow](https://www.oreilly.com/library/view/hands-on-machine-learning/9781492032632/)\n",
    "2. Code example [01_the_machine_learning_landscape](https://github.com/ageron/handson-ml2/blob/3cffb49fffb4d79db5e68de1fc5f91d5e74262e8/01_the_machine_learning_landscape.ipynb)"
   ]
  }
 ],
 "metadata": {
  "celltoolbar": "Slideshow",
  "kernelspec": {
   "display_name": "Python 3 (ipykernel)",
   "language": "python",
   "name": "python3"
  },
  "language_info": {
   "codemirror_mode": {
    "name": "ipython",
    "version": 3
   },
   "file_extension": ".py",
   "mimetype": "text/x-python",
   "name": "python",
   "nbconvert_exporter": "python",
   "pygments_lexer": "ipython3",
   "version": "3.8.8"
  }
 },
 "nbformat": 4,
 "nbformat_minor": 5
}

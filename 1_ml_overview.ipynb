{
 "cells": [
  {
   "cell_type": "markdown",
   "id": "c63ec519",
   "metadata": {
    "slideshow": {
     "slide_type": "slide"
    }
   },
   "source": [
    "# Machine learning overview"
   ]
  },
  {
   "cell_type": "markdown",
   "id": "dc568d00",
   "metadata": {
    "slideshow": {
     "slide_type": "skip"
    }
   },
   "source": [
    "[![Open In Colab](https://colab.research.google.com/assets/colab-badge.svg)](https://colab.research.google.com/github/insop/ML_crash_course/blob/main/1_ml_overview.ipynb)"
   ]
  },
  {
   "cell_type": "markdown",
   "id": "c4919f42",
   "metadata": {
    "slideshow": {
     "slide_type": "slide"
    }
   },
   "source": [
    "## Outline\n",
    "\n",
    "- Objectives\n",
    "- Target audiences\n",
    "- Machine learning: what and examples\n",
    "- Types of machine learning systems\n",
    "- A short example\n",
    "- Tutorials: numpy, pandas\n",
    "- Summary"
   ]
  },
  {
   "cell_type": "markdown",
   "id": "fcc31f5a",
   "metadata": {
    "slideshow": {
     "slide_type": "skip"
    }
   },
   "source": [
    "***\n",
    "Before discussing in-depth topics from the next notebook, this notebook aims to give a high level overview of machine learning.\n",
    "\n",
    "We will discuss the objectives and audience of this ML crash notebook.\n",
    "As part of the overview, it will be helpful to review the types of different machine learning systems.\n",
    "Following that, we will take a quick look at an ML example we will cover next week.\n",
    "We will review two of the most important Python libraries for ML, `numpy` and `pandas`, before finishing.\n",
    "***"
   ]
  },
  {
   "cell_type": "markdown",
   "id": "314c12fe",
   "metadata": {
    "slideshow": {
     "slide_type": "slide"
    }
   },
   "source": [
    "## Objectives\n",
    "- discuss high level ML overview\n",
    "- review representative ML systems\n",
    "- able to identify potential areas that AI/ML could be helpful\n",
    "- understand the development cycle of AI/ML applications\n",
    "- understand the end-to-end view of AI/ML applications"
   ]
  },
  {
   "cell_type": "markdown",
   "id": "dc950f66",
   "metadata": {
    "slideshow": {
     "slide_type": "skip"
    }
   },
   "source": [
    "***\n",
    "This series of notebooks aims to provide a high-level overview of Machine Learning with practical examples. Reference materials will also be provided.\n",
    "\n",
    "In addition, we want to help readers/audiences recognize the potential ML applications in the systems that they are working on either internally for themselves to improve the operation efficiency or externally for customers to provide awesome ML assisted features.\n",
    "\n",
    "A final goal is to show ML development cycles together with MLOps and ML infrastructures, so that we can see the complete end-to-end view of ML applications, and not just the ML model training.\n",
    "***"
   ]
  },
  {
   "cell_type": "markdown",
   "id": "8196c2c0",
   "metadata": {
    "slideshow": {
     "slide_type": "slide"
    }
   },
   "source": [
    "## Target audiences\n",
    "- want to understand the high level view\n",
    "    - read the notebook\n",
    "- want to know how internals of ML system works\n",
    "    - run the code in the notebook\n",
    "- want to know\n",
    "    - look at the material provided as references"
   ]
  },
  {
   "cell_type": "markdown",
   "id": "876ffc53",
   "metadata": {
    "slideshow": {
     "slide_type": "skip"
    }
   },
   "source": [
    "***\n",
    "To get the gist of machine learning, simply following along with this notebook is helpful. For those interested in learning how ML works, following along with the notebook and coding examples will be helpful. The reference material provided will be helpful for those who want to dig deeper.\n",
    "***"
   ]
  },
  {
   "cell_type": "markdown",
   "id": "fb0cca02",
   "metadata": {
    "slideshow": {
     "slide_type": "slide"
    }
   },
   "source": [
    "## Machine learning: what and examples"
   ]
  },
  {
   "cell_type": "markdown",
   "id": "8270f252",
   "metadata": {
    "slideshow": {
     "slide_type": "slide"
    }
   },
   "source": [
    "### What is machine learning?\n",
    "\n",
    "- a predictor $f$ takes some input $x$ and generates output $\\hat{y}$\n",
    "    - $x$ $\\rightarrow$ $f$ $\\rightarrow$ $\\hat{y}$\n",
    "- a predictor $f$ learns from training dataset\n",
    "- to learn, prediction performance needs to be measured, such as prediction accuracy\n",
    "- a predictor usually call ML model\n",
    "- input can be structured or unstructured data"
   ]
  },
  {
   "cell_type": "markdown",
   "id": "dff94469",
   "metadata": {
    "slideshow": {
     "slide_type": "skip"
    }
   },
   "source": [
    "***\n",
    "A subfield of artificial intelligence, machine learning includes statistical machine learning and artificial neural networks.\n",
    "\n",
    "Next, we will introduce three ML task areas: classification, regression, and other types of prediction.\n",
    "***"
   ]
  },
  {
   "cell_type": "markdown",
   "id": "9cc8cef5",
   "metadata": {
    "slideshow": {
     "slide_type": "slide"
    }
   },
   "source": [
    "#### Classification task\n",
    "\n",
    "- a binary classification predicts positive or negative output\n",
    "    - $x$ $\\rightarrow$ $f$ $\\rightarrow$ $0$ or $1$\n",
    "- examples of binary classfication\n",
    "    - spam detection, is spam or not?\n",
    "    - tagging offensive comments on discussion forums\n",
    "- $k$ multiclass classification predicts one of $k$ classes\n",
    "    - $x$ $\\rightarrow$ $f$ $\\rightarrow$ $0, 1, ..., (k-1)$\n",
    "- examples of multiclass classfication\n",
    "    - image classification\n",
    "    - digit classification"
   ]
  },
  {
   "cell_type": "markdown",
   "id": "00907281",
   "metadata": {
    "slideshow": {
     "slide_type": "notes"
    }
   },
   "source": [
    "***\n",
    "Binary classification is also known as logistic regression, please do not confuse it with the following regression task. For supervised training, each dataset consists of input and output labels. We will discuss supervised machine learning in short.\n",
    "***"
   ]
  },
  {
   "cell_type": "markdown",
   "id": "df96cae0",
   "metadata": {
    "slideshow": {
     "slide_type": "slide"
    }
   },
   "source": [
    "#### Regression task\n",
    "- prediction output is real number, $\\hat{y} \\in \\mathbb{R}$\n",
    "- examples\n",
    "    - housing price prediction given many features of the house\n",
    "    - forcasting cmopany's revenue next year based on performance metrics\n"
   ]
  },
  {
   "cell_type": "markdown",
   "id": "fede6635",
   "metadata": {
    "slideshow": {
     "slide_type": "notes"
    }
   },
   "source": [
    "***\n",
    "It is also known as linear regression, which has a long history dated back to Gauss and Legendre in 1809.\n",
    "***"
   ]
  },
  {
   "cell_type": "markdown",
   "id": "72ebe215",
   "metadata": {
    "slideshow": {
     "slide_type": "slide"
    }
   },
   "source": [
    "#### Other types of prediction tasks\n",
    "- any other types of model predicts complex objects\n",
    "- task could often decomposed or cascade with one or more classification and regression tasks\n",
    "- examples:\n",
    "    - object detection: predicts object types and locations\n",
    "    - language translatoin: given input language and translate to other language"
   ]
  },
  {
   "cell_type": "markdown",
   "id": "baf0e480",
   "metadata": {
    "slideshow": {
     "slide_type": "notes"
    }
   },
   "source": [
    "***\n",
    "The other types of tasks may seem overwhelming, but they are built using simpler regression and classification tasks.\n",
    "***"
   ]
  },
  {
   "cell_type": "markdown",
   "id": "fa671d68",
   "metadata": {
    "slideshow": {
     "slide_type": "slide"
    }
   },
   "source": [
    "## Types of machine learning systems\n",
    "- Supervised learning\n",
    "    - training data is give with label (ground truth)\n",
    "    - regression, classification\n",
    "- Unsupervised learning\n",
    "    - training data is unlabled, \n",
    "    - clustering, anomaly detection\n",
    "- Reinforcement learning\n",
    "    - learn by trying and learn from sequential try and error information\n",
    "    - popularized as winning games, but there are many potentials in real world applications"
   ]
  },
  {
   "cell_type": "markdown",
   "id": "8367d072",
   "metadata": {
    "slideshow": {
     "slide_type": "slide"
    }
   },
   "source": [
    "## Short ML example\n",
    "\n",
    "We will see a simple ML example that predict $y$ value give $x$ value, which is regression type of ML. The following [code](https://github.com/ageron/handson-ml2/blob/3cffb49fffb4d79db5e68de1fc5f91d5e74262e8/01_the_machine_learning_landscape.ipynb) is from book [1].\n",
    "\n",
    "In this example, life satisfaction is predicted based on GDP per capita. Please don't worry if you don't understand the details; we will discuss these issues in our next notebook."
   ]
  },
  {
   "cell_type": "markdown",
   "id": "5205ee98",
   "metadata": {
    "slideshow": {
     "slide_type": "skip"
    }
   },
   "source": [
    "***\n",
    "Import python modules, [sklearn](https://scikit-learn.org/stable) provide many of the widely used ML models."
   ]
  },
  {
   "cell_type": "code",
   "execution_count": 1,
   "id": "b2a308c6",
   "metadata": {
    "slideshow": {
     "slide_type": "skip"
    }
   },
   "outputs": [],
   "source": [
    "import sklearn\n",
    "import sys\n",
    "\n",
    "import matplotlib.pyplot as plt # graph\n",
    "import numpy as np # number handling\n",
    "import pandas as pd # structured data handling\n",
    "import sklearn.linear_model\n",
    "import os\n",
    "\n",
    "# enable this when running locally\n",
    "# from utils import save_fig"
   ]
  },
  {
   "cell_type": "markdown",
   "id": "83668657",
   "metadata": {
    "slideshow": {
     "slide_type": "skip"
    }
   },
   "source": [
    "A helper function to prepare dataset using OECD's life satisfaction values and the IMF's GDP per capita."
   ]
  },
  {
   "cell_type": "code",
   "execution_count": 2,
   "id": "0c6463f5",
   "metadata": {
    "slideshow": {
     "slide_type": "skip"
    }
   },
   "outputs": [],
   "source": [
    "def prepare_country_stats(oecd_bli, gdp_per_capita):\n",
    "    oecd_bli = oecd_bli[oecd_bli[\"INEQUALITY\"]==\"TOT\"]\n",
    "    oecd_bli = oecd_bli.pivot(index=\"Country\", columns=\"Indicator\", values=\"Value\")\n",
    "    gdp_per_capita.rename(columns={\"2015\": \"GDP per capita\"}, inplace=True)\n",
    "    gdp_per_capita.set_index(\"Country\", inplace=True)\n",
    "    full_country_stats = pd.merge(left=oecd_bli, right=gdp_per_capita,\n",
    "                                  left_index=True, right_index=True)\n",
    "    full_country_stats.sort_values(by=\"GDP per capita\", inplace=True)\n",
    "    remove_indices = [0, 1, 6, 8, 33, 34, 35]\n",
    "    keep_indices = list(set(range(36)) - set(remove_indices))\n",
    "    return full_country_stats[[\"GDP per capita\", 'Life satisfaction']].iloc[keep_indices]"
   ]
  },
  {
   "cell_type": "code",
   "execution_count": 3,
   "id": "acc3c311",
   "metadata": {
    "slideshow": {
     "slide_type": "skip"
    }
   },
   "outputs": [],
   "source": [
    "# To plot pretty figures directly within Jupyter\n",
    "%matplotlib inline\n",
    "import matplotlib as mpl\n",
    "mpl.rc('axes', labelsize=14)\n",
    "mpl.rc('xtick', labelsize=12)\n",
    "mpl.rc('ytick', labelsize=12)"
   ]
  },
  {
   "cell_type": "code",
   "execution_count": 4,
   "id": "6c072de2",
   "metadata": {
    "slideshow": {
     "slide_type": "skip"
    }
   },
   "outputs": [],
   "source": [
    "# prepare download path\n",
    "datapath = os.path.join(\"datasets\", \"lifesat\", \"\")"
   ]
  },
  {
   "cell_type": "code",
   "execution_count": 5,
   "id": "7b35792a",
   "metadata": {
    "slideshow": {
     "slide_type": "skip"
    }
   },
   "outputs": [
    {
     "name": "stdout",
     "output_type": "stream",
     "text": [
      "Downloading oecd_bli_2015.csv\n",
      "Downloading gdp_per_capita.csv\n"
     ]
    }
   ],
   "source": [
    "# Download the training dataset\n",
    "import urllib.request\n",
    "DOWNLOAD_ROOT = \"https://raw.githubusercontent.com/ageron/handson-ml2/master/\"\n",
    "os.makedirs(datapath, exist_ok=True)\n",
    "for filename in (\"oecd_bli_2015.csv\", \"gdp_per_capita.csv\"):\n",
    "    print(\"Downloading\", filename)\n",
    "    url = DOWNLOAD_ROOT + \"datasets/lifesat/\" + filename\n",
    "    urllib.request.urlretrieve(url, datapath + filename)"
   ]
  },
  {
   "cell_type": "code",
   "execution_count": 6,
   "id": "b64b3432",
   "metadata": {
    "slideshow": {
     "slide_type": "skip"
    }
   },
   "outputs": [],
   "source": [
    "# load training data and prepare input dataset\n",
    "\n",
    "oecd_bli = pd.read_csv(datapath + \"oecd_bli_2015.csv\", thousands=',')\n",
    "gdp_per_capita = pd.read_csv(datapath + \"gdp_per_capita.csv\",thousands=',',delimiter='\\t',\n",
    "                             encoding='latin1', na_values=\"n/a\")\n",
    "\n",
    "# Prepare the data\n",
    "country_stats = prepare_country_stats(oecd_bli, gdp_per_capita)\n",
    "X = np.c_[country_stats[\"GDP per capita\"]]\n",
    "y = np.c_[country_stats[\"Life satisfaction\"]]"
   ]
  },
  {
   "cell_type": "markdown",
   "id": "0b457d5c",
   "metadata": {
    "slideshow": {
     "slide_type": "skip"
    }
   },
   "source": [
    "Here is the scatter plot of the training dataset, $x$ is GDP per capita, and $y$ (label) is life satisfaction.\n",
    "\n",
    "Our goal is to find a linear line that fits to the data."
   ]
  },
  {
   "cell_type": "code",
   "execution_count": 7,
   "id": "b1d26631",
   "metadata": {
    "scrolled": true,
    "slideshow": {
     "slide_type": "skip"
    }
   },
   "outputs": [
    {
     "data": {
      "image/png": "[encoded data removed]",
      "text/plain": [
       "<Figure size 432x288 with 1 Axes>"
      ]
     },
     "metadata": {
      "needs_background": "light"
     },
     "output_type": "display_data"
    }
   ],
   "source": [
    "# Visualize the training dataset\n",
    "country_stats.plot(kind='scatter', x=\"GDP per capita\", y='Life satisfaction')\n",
    "plt.show()"
   ]
  },
  {
   "cell_type": "markdown",
   "id": "8a24245b",
   "metadata": {
    "slideshow": {
     "slide_type": "skip"
    }
   },
   "source": [
    "The follosing two lines of code trains the ML model (linear regression)"
   ]
  },
  {
   "cell_type": "code",
   "execution_count": 8,
   "id": "f46b496c",
   "metadata": {
    "slideshow": {
     "slide_type": "skip"
    }
   },
   "outputs": [],
   "source": [
    "# Select a linear model\n",
    "model = sklearn.linear_model.LinearRegression()\n",
    "\n",
    "# Train the model\n",
    "reg = model.fit(X, y)"
   ]
  },
  {
   "cell_type": "markdown",
   "id": "165237dc",
   "metadata": {
    "slideshow": {
     "slide_type": "skip"
    }
   },
   "source": [
    "We can check this linear equation\n",
    "$y = \\theta_0 x + \\theta_1$, \n",
    "\n",
    "where $x$ is \"GDP per capita\", $y$ is \"Life satisfaction\""
   ]
  },
  {
   "cell_type": "code",
   "execution_count": 9,
   "id": "cd8e508e",
   "metadata": {
    "slideshow": {
     "slide_type": "skip"
    }
   },
   "outputs": [
    {
     "name": "stdout",
     "output_type": "stream",
     "text": [
      "y = 0.000049x + 4.85\n"
     ]
    }
   ],
   "source": [
    "𝜃1 = reg.coef_[0][0]\n",
    "𝜃0 = reg.intercept_[0]\n",
    "print(f\"y = {𝜃1:.6f}x + {𝜃0:.2f}\")"
   ]
  },
  {
   "cell_type": "markdown",
   "id": "00cc9d0b",
   "metadata": {
    "slideshow": {
     "slide_type": "skip"
    }
   },
   "source": [
    "***\n",
    "Now we can plot the linear equation on top of the training dataset."
   ]
  },
  {
   "cell_type": "code",
   "execution_count": 10,
   "id": "35d5fd95",
   "metadata": {
    "slideshow": {
     "slide_type": "skip"
    }
   },
   "outputs": [
    {
     "data": {
      "image/png": "[encoded data removed]",
      "text/plain": [
       "<Figure size 432x288 with 1 Axes>"
      ]
     },
     "metadata": {
      "needs_background": "light"
     },
     "output_type": "display_data"
    }
   ],
   "source": [
    "country_stats.plot(kind='scatter', x=\"GDP per capita\", y='Life satisfaction')\n",
    "\n",
    "plt.axis([0, 60000, 0, 10])\n",
    "X=np.linspace(0, 60000, 1000)\n",
    "plt.plot(X, 𝜃0 + 𝜃1*X, \"r\")\n",
    "plt.text(5000, 3.1, r\"$\\theta_0$ = {:.2f}\".format(𝜃0), fontsize=14, color=\"b\")\n",
    "plt.text(5000, 2.2, r\"$\\theta_1$ = {:.6f}\".format(𝜃1), fontsize=14, color=\"b\")\n",
    "plt.show()"
   ]
  },
  {
   "cell_type": "markdown",
   "id": "ea974932",
   "metadata": {
    "slideshow": {
     "slide_type": "skip"
    }
   },
   "source": [
    "***\n",
    "Now we can make prediction for Cyprus."
   ]
  },
  {
   "cell_type": "code",
   "execution_count": 11,
   "id": "87bb43ce",
   "metadata": {
    "slideshow": {
     "slide_type": "skip"
    }
   },
   "outputs": [
    {
     "name": "stdout",
     "output_type": "stream",
     "text": [
      "Cyprus's GDP per capita 22587.49\n"
     ]
    }
   ],
   "source": [
    "cyprus_gdp_per_capita = gdp_per_capita.loc[\"Cyprus\"][\"GDP per capita\"]\n",
    "print(\"Cyprus's GDP per capita {}\".format(cyprus_gdp_per_capita))\n"
   ]
  },
  {
   "cell_type": "code",
   "execution_count": 12,
   "id": "405c9f9a",
   "metadata": {
    "slideshow": {
     "slide_type": "skip"
    }
   },
   "outputs": [
    {
     "name": "stdout",
     "output_type": "stream",
     "text": [
      "Life satisfaction of Cyprus is: 5.962447443188149\n"
     ]
    }
   ],
   "source": [
    "# Make a prediction for Cyprus\n",
    "\n",
    "cyprus_predicted_life_satisfaction = model.predict([[cyprus_gdp_per_capita]])[0][0]\n",
    "cyprus_predicted_life_satisfaction\n",
    "\n",
    "print(\"Life satisfaction of Cyprus is: {}\".format(cyprus_predicted_life_satisfaction))"
   ]
  },
  {
   "cell_type": "markdown",
   "id": "78114a10",
   "metadata": {
    "slideshow": {
     "slide_type": "skip"
    }
   },
   "source": [
    "***\n",
    "We can plot our prediction overlay with the linear equation and training data."
   ]
  },
  {
   "cell_type": "code",
   "execution_count": 13,
   "id": "24495d84",
   "metadata": {
    "slideshow": {
     "slide_type": "skip"
    }
   },
   "outputs": [
    {
     "name": "stdout",
     "output_type": "stream",
     "text": [
      "Saving figure cyprus_prediction_plot\n"
     ]
    },
    {
     "data": {
      "image/png": "[encoded data removed]",
      "text/plain": [
       "<Figure size 432x288 with 1 Axes>"
      ]
     },
     "metadata": {
      "needs_background": "light"
     },
     "output_type": "display_data"
    }
   ],
   "source": [
    "country_stats.plot(kind='scatter', x=\"GDP per capita\", y='Life satisfaction')\n",
    "\n",
    "plt.axis([0, 60000, 0, 10])\n",
    "X=np.linspace(0, 60000, 1000)\n",
    "plt.plot(X, 𝜃0 + 𝜃1*X, \"r\")\n",
    "plt.text(5000, 3.1, r\"$\\theta_0$ = {:.2f}\".format(𝜃0), fontsize=14, color=\"b\")\n",
    "plt.text(5000, 2.2, r\"$\\theta_1$ = {:.6f}\".format(𝜃1), fontsize=14, color=\"b\")\n",
    "\n",
    "plt.plot([cyprus_gdp_per_capita, cyprus_gdp_per_capita], [0, cyprus_predicted_life_satisfaction], \"r--\")\n",
    "plt.text(25000, 5.0, r\"Prediction = {:.2f}\".format(cyprus_predicted_life_satisfaction), fontsize=14, color=\"b\")\n",
    "plt.plot(cyprus_gdp_per_capita, cyprus_predicted_life_satisfaction, \"rx\")\n",
    "\n",
    "# enable it when it locally\n",
    "# save_fig('cyprus_prediction_plot')\n",
    "\n",
    "plt.show()"
   ]
  },
  {
   "cell_type": "markdown",
   "id": "ee3d5b20",
   "metadata": {
    "slideshow": {
     "slide_type": "slide"
    }
   },
   "source": [
    "## SW tools\n",
    " - Numpy: efficient vectory, matrix handling library\n",
    "     - [Numpy tutorial](https://github.com/insop/ML_crash_course/blob/main/tutorial_numpy.ipynb)\n",
    " - Pandas: structured data handling\n",
    "     - [Pandas tutorial](https://github.com/insop/ML_crash_course/blob/main/tutorial_pandas.ipynb)\n"
   ]
  },
  {
   "cell_type": "markdown",
   "id": "35d2639a",
   "metadata": {},
   "source": [
    "***\n",
    "`numpy` is the main library used in machine learning and data science, since it handles vectors and matrices efficiently. Other deep learning frameworks (such as TensorFlow or PyTorch) that we will discuss later uses `numpy` style vector representations, so knowing `numpy` is essential to ML programming.\n",
    "\n",
    "Data that can be represented as rows and columns are handled by `pandas`, such as csv files.\n",
    "***"
   ]
  },
  {
   "cell_type": "markdown",
   "id": "e683e5b3",
   "metadata": {
    "slideshow": {
     "slide_type": "slide"
    }
   },
   "source": [
    "## Summary:\n",
    "- short and high level review of ML\n",
    "    - regression, classification tasks\n",
    "- types of ML:\n",
    "    - supervised, unsupervised, RL\n",
    "- short example\n",
    "- numpy and pandas tutorial"
   ]
  },
  {
   "cell_type": "markdown",
   "id": "5a04e0e2",
   "metadata": {
    "slideshow": {
     "slide_type": "slide"
    }
   },
   "source": [
    "## Credits\n",
    "\n",
    "This notebook uses the contents from the followring materials:\n",
    "\n",
    "1. Chapter 1 from Book [Hands-on Machine Learning with Scikit-Learn, Keras and TensorFlow](https://www.oreilly.com/library/view/hands-on-machine-learning/9781492032632/)\n",
    "2. Code example [01_the_machine_learning_landscape](https://github.com/ageron/handson-ml2/blob/3cffb49fffb4d79db5e68de1fc5f91d5e74262e8/01_the_machine_learning_landscape.ipynb)\n",
    "3. [ML overview](https://stanford-cs221.github.io/autumn2021-extra/modules/machine-learning/overview.pdf)"
   ]
  },
  {
   "cell_type": "code",
   "execution_count": null,
   "id": "1f0b226e",
   "metadata": {},
   "outputs": [],
   "source": []
  }
 ],
 "metadata": {
  "celltoolbar": "Slideshow",
  "kernelspec": {
   "display_name": "Python 3 (ipykernel)",
   "language": "python",
   "name": "python3"
  },
  "language_info": {
   "codemirror_mode": {
    "name": "ipython",
    "version": 3
   },
   "file_extension": ".py",
   "mimetype": "text/x-python",
   "name": "python",
   "nbconvert_exporter": "python",
   "pygments_lexer": "ipython3",
   "version": "3.8.12"
  }
 },
 "nbformat": 4,
 "nbformat_minor": 5
}

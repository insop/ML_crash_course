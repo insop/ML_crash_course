{
 "cells": [
  {
   "cell_type": "markdown",
   "id": "0529c6bb",
   "metadata": {
    "slideshow": {
     "slide_type": "slide"
    }
   },
   "source": [
    "# Tutorial: numpy"
   ]
  },
  {
   "cell_type": "markdown",
   "id": "e74fe0b8",
   "metadata": {
    "slideshow": {
     "slide_type": "skip"
    }
   },
   "source": [
    "[![Open In Colab](https://colab.research.google.com/assets/colab-badge.svg)](https://colab.research.google.com/github/insop/ML_crash_course/blob/main/tutorial_numpy.ipynb)\n"
   ]
  },
  {
   "cell_type": "markdown",
   "id": "86e7b53f",
   "metadata": {
    "slideshow": {
     "slide_type": "slide"
    }
   },
   "source": [
    "## Contents\n",
    "\n",
    "1. [Motivation](#Motivation)\n",
    "1. [Vectors](#Vectors)\n",
    "  1. [Vector Initialization](#Vector-Initialization)\n",
    "  1. [Vector indexing](#Vector-indexing)\n",
    "  1. [Vector assignment](#Vector-assignment)\n",
    "  1. [Vectorized operations](#Vectorized-operations)\n",
    "  1. [Why vectorized operations](#Why-vectorized-operations)\n",
    "1. [Matrices](#Matrices)\n",
    "  1. [Matrix initialization](#Matrix-initialization)\n",
    "  1. [Matrix indexing](#Matrix-indexing)\n",
    "  1. [Matrix assignment](#Matrix-assignment)\n",
    "  1. [Matrix reshaping](#Matrix-reshaping)\n",
    "  1. [Numeric operations](#Numeric-operations)\n",
    "1. [Credits](#Credits)\n",
    "1. [References](#References)"
   ]
  },
  {
   "cell_type": "markdown",
   "id": "600aa172",
   "metadata": {
    "slideshow": {
     "slide_type": "slide"
    }
   },
   "source": [
    "## Motivation\n",
    "- it allows us to compute vectors and matrices efficiently\n",
    "- it is much performant than native Python\n",
    "- other ML/DL framework ([TensorFlow](https://www.tensorflow.org), [Pytorch](https://pytorch.org)) use numpy style tensor operations\n",
    "\n",
    "In jupyter notebook, `numpy` help is just two cliks away (Help->NumPy Reference)."
   ]
  },
  {
   "cell_type": "markdown",
   "id": "7c1a873f",
   "metadata": {
    "slideshow": {
     "slide_type": "slide"
    }
   },
   "source": [
    "## Vectors"
   ]
  },
  {
   "cell_type": "markdown",
   "id": "8146432b",
   "metadata": {
    "slideshow": {
     "slide_type": "slide"
    }
   },
   "source": [
    "### Vector initialization\n",
    "\n",
    "Numpy array (`ndarray`) is one or more dimensions values of the same types. \n",
    "\n",
    "They are indexed by non negative integer tuples. \n",
    "\n",
    "Rank represents the number of dimensions of the array. \n",
    "\n",
    "The `shape` shows the dimensions of the array."
   ]
  },
  {
   "cell_type": "code",
   "execution_count": null,
   "id": "2d4ba8a6",
   "metadata": {
    "slideshow": {
     "slide_type": "slide"
    }
   },
   "outputs": [],
   "source": [
    "import numpy as np"
   ]
  },
  {
   "cell_type": "code",
   "execution_count": null,
   "id": "bf1a55b0",
   "metadata": {
    "slideshow": {
     "slide_type": "-"
    }
   },
   "outputs": [],
   "source": [
    "# init '5' zeros with rank #1 array\n",
    "np.zeros(5)"
   ]
  },
  {
   "cell_type": "code",
   "execution_count": null,
   "id": "2a197c47",
   "metadata": {},
   "outputs": [],
   "source": [
    "np.ones(5)\n"
   ]
  },
  {
   "cell_type": "code",
   "execution_count": null,
   "id": "4b0b80d1",
   "metadata": {
    "slideshow": {
     "slide_type": "slide"
    }
   },
   "outputs": [],
   "source": [
    "a=np.zeros(6)\n",
    "print(\"a: {}\".format(a))\n",
    "print(\"a's dim is {}\".format(a.shape))"
   ]
  },
  {
   "cell_type": "code",
   "execution_count": null,
   "id": "95ae3134",
   "metadata": {},
   "outputs": [],
   "source": [
    "# initialize array with type\n",
    "np.array([1,2,3,4,5], dtype='float')"
   ]
  },
  {
   "cell_type": "code",
   "execution_count": null,
   "id": "97b08dcf",
   "metadata": {
    "slideshow": {
     "slide_type": "-"
    }
   },
   "outputs": [],
   "source": [
    "# 10 random floats in [0,1)\n",
    "np.random.random(10)"
   ]
  },
  {
   "cell_type": "code",
   "execution_count": null,
   "id": "f7e22778",
   "metadata": {},
   "outputs": [],
   "source": [
    "# random integers\n",
    "np.random.randint(11,20, size=10) "
   ]
  },
  {
   "cell_type": "markdown",
   "id": "f92f8bf4",
   "metadata": {
    "slideshow": {
     "slide_type": "slide"
    }
   },
   "source": [
    "### Vector indexing"
   ]
  },
  {
   "cell_type": "code",
   "execution_count": null,
   "id": "1d6f288d",
   "metadata": {},
   "outputs": [],
   "source": [
    "x = np.array([10,20,30,40,50])"
   ]
  },
  {
   "cell_type": "code",
   "execution_count": null,
   "id": "56e7a4d0",
   "metadata": {},
   "outputs": [],
   "source": [
    "x[2]"
   ]
  },
  {
   "cell_type": "code",
   "execution_count": null,
   "id": "09ebb312",
   "metadata": {},
   "outputs": [],
   "source": [
    "# slicing\n",
    "x[2:4]"
   ]
  },
  {
   "cell_type": "code",
   "execution_count": null,
   "id": "b3af8272",
   "metadata": {},
   "outputs": [],
   "source": [
    "# last value\n",
    "x[-1]"
   ]
  },
  {
   "cell_type": "code",
   "execution_count": null,
   "id": "c33ccc43",
   "metadata": {},
   "outputs": [],
   "source": [
    "# pick values by indices\n",
    "x[[1,2,-1]]"
   ]
  },
  {
   "cell_type": "markdown",
   "id": "dded9ffa",
   "metadata": {
    "slideshow": {
     "slide_type": "slide"
    }
   },
   "source": [
    "### Vector assignment"
   ]
  },
  {
   "cell_type": "markdown",
   "id": "44beb4fe",
   "metadata": {},
   "source": [
    "!!! Be careful when assigning arrays to a new array"
   ]
  },
  {
   "cell_type": "code",
   "execution_count": null,
   "id": "e7cda31d",
   "metadata": {},
   "outputs": [],
   "source": [
    "# what will happen?\n",
    "x2 = x\n",
    "# x2 = x.copy()"
   ]
  },
  {
   "cell_type": "code",
   "execution_count": null,
   "id": "154d4f3d",
   "metadata": {
    "slideshow": {
     "slide_type": "slide"
    }
   },
   "outputs": [],
   "source": [
    "x2[0]=10"
   ]
  },
  {
   "cell_type": "code",
   "execution_count": null,
   "id": "54df3527",
   "metadata": {},
   "outputs": [],
   "source": [
    "x2[[1,2]] = 90\n",
    "x2"
   ]
  },
  {
   "cell_type": "code",
   "execution_count": null,
   "id": "0bd2f98e",
   "metadata": {},
   "outputs": [],
   "source": [
    "x2[[3,4]] = [-1,-2]\n",
    "x2"
   ]
  },
  {
   "cell_type": "code",
   "execution_count": null,
   "id": "f72124d4",
   "metadata": {},
   "outputs": [],
   "source": [
    "# check the original array (x), what should we do?\n",
    "x"
   ]
  },
  {
   "cell_type": "markdown",
   "id": "d4a20437",
   "metadata": {
    "slideshow": {
     "slide_type": "slide"
    }
   },
   "source": [
    "### Vectorized operations"
   ]
  },
  {
   "cell_type": "code",
   "execution_count": null,
   "id": "6a0c4ce9",
   "metadata": {},
   "outputs": [],
   "source": [
    "x.sum()"
   ]
  },
  {
   "cell_type": "code",
   "execution_count": null,
   "id": "ed678d45",
   "metadata": {},
   "outputs": [],
   "source": [
    "x.mean()"
   ]
  },
  {
   "cell_type": "code",
   "execution_count": null,
   "id": "e65fdfcd",
   "metadata": {},
   "outputs": [],
   "source": [
    "x.argmax()"
   ]
  },
  {
   "cell_type": "code",
   "execution_count": null,
   "id": "1a5892b5",
   "metadata": {},
   "outputs": [],
   "source": [
    "np.log(x)"
   ]
  },
  {
   "cell_type": "code",
   "execution_count": null,
   "id": "fc7fbbe6",
   "metadata": {},
   "outputs": [],
   "source": [
    "np.exp(x)"
   ]
  },
  {
   "cell_type": "markdown",
   "id": "67a9a77f",
   "metadata": {
    "slideshow": {
     "slide_type": "slide"
    }
   },
   "source": [
    "### Why vectorized operations\n",
    "\n",
    "Compared to python list, `numpy` vectorized opertions lead to __huge__ performance gains. The following show the comparisions between python list and numpy vectorized operation with 10 million values."
   ]
  },
  {
   "cell_type": "code",
   "execution_count": null,
   "id": "fe6d819f",
   "metadata": {},
   "outputs": [],
   "source": [
    "# log every value as pyton list, one by one\n",
    "def listlog(vals):\n",
    "    return [np.log(y) for y in vals]"
   ]
  },
  {
   "cell_type": "code",
   "execution_count": null,
   "id": "9a7e631b",
   "metadata": {},
   "outputs": [],
   "source": [
    "# get random array\n",
    "random_nums = np.random.random_sample(int(1e7))+1\n",
    "random_nums[0:10]"
   ]
  },
  {
   "cell_type": "code",
   "execution_count": null,
   "id": "fc317200",
   "metadata": {},
   "outputs": [],
   "source": [
    "%time _ = np.log(random_nums)"
   ]
  },
  {
   "cell_type": "code",
   "execution_count": null,
   "id": "bfcf0eb7",
   "metadata": {},
   "outputs": [],
   "source": [
    "%time _ = listlog(random_nums)"
   ]
  },
  {
   "cell_type": "markdown",
   "id": "55cbf94f",
   "metadata": {
    "slideshow": {
     "slide_type": "slide"
    }
   },
   "source": [
    "## Matrices\n",
    "\n",
    "The matrix (multi-dimensional vector) is the main data object of machine learning operations."
   ]
  },
  {
   "cell_type": "markdown",
   "id": "b92640fd",
   "metadata": {
    "slideshow": {
     "slide_type": "slide"
    }
   },
   "source": [
    "### Matrix initilzation"
   ]
  },
  {
   "cell_type": "code",
   "execution_count": null,
   "id": "9f969ca3",
   "metadata": {},
   "outputs": [],
   "source": [
    "np.array([[1,2,3],[4,5,6]])"
   ]
  },
  {
   "cell_type": "code",
   "execution_count": null,
   "id": "7f586d3c",
   "metadata": {},
   "outputs": [],
   "source": [
    "np.array([[1,2,3],[4,5,6]], dtype='float') "
   ]
  },
  {
   "cell_type": "code",
   "execution_count": null,
   "id": "7e3933a6",
   "metadata": {},
   "outputs": [],
   "source": [
    "np.zeros((3,5))"
   ]
  },
  {
   "cell_type": "markdown",
   "id": "9886f817",
   "metadata": {
    "slideshow": {
     "slide_type": "slide"
    }
   },
   "source": [
    "### Matrix indexing"
   ]
  },
  {
   "cell_type": "code",
   "execution_count": null,
   "id": "7ebcb546",
   "metadata": {
    "scrolled": false
   },
   "outputs": [],
   "source": [
    "X=np.array([[1,2,3],[4,5,6]])\n",
    "X"
   ]
  },
  {
   "cell_type": "code",
   "execution_count": null,
   "id": "95ed3514",
   "metadata": {},
   "outputs": [],
   "source": [
    "X[0] # row"
   ]
  },
  {
   "cell_type": "code",
   "execution_count": null,
   "id": "cd68b1f3",
   "metadata": {},
   "outputs": [],
   "source": [
    "X[0,0] # row, col"
   ]
  },
  {
   "cell_type": "code",
   "execution_count": null,
   "id": "b65ddabc",
   "metadata": {},
   "outputs": [],
   "source": [
    "X[0,:] # row, ':' means all, i.e. from * to':'' * "
   ]
  },
  {
   "cell_type": "code",
   "execution_count": null,
   "id": "711b0abd",
   "metadata": {},
   "outputs": [],
   "source": [
    "X[:,1] # column"
   ]
  },
  {
   "cell_type": "code",
   "execution_count": null,
   "id": "3d7cd825",
   "metadata": {},
   "outputs": [],
   "source": [
    "X[:,[0,2]]"
   ]
  },
  {
   "cell_type": "code",
   "execution_count": null,
   "id": "af6f92a9",
   "metadata": {},
   "outputs": [],
   "source": [
    "# find numbers greater and equal than 4\n",
    "X[X>=4] # try `X>=4` first if this is not clear"
   ]
  },
  {
   "cell_type": "markdown",
   "id": "88b9d14f",
   "metadata": {
    "slideshow": {
     "slide_type": "slide"
    }
   },
   "source": [
    "## Matrix assignment\n",
    "\n",
    "Similar to vector assignment, be careful for assignining, use `copy()` when necessary."
   ]
  },
  {
   "cell_type": "code",
   "execution_count": null,
   "id": "ab2df5f1",
   "metadata": {},
   "outputs": [],
   "source": [
    "X2=X.copy()"
   ]
  },
  {
   "cell_type": "code",
   "execution_count": null,
   "id": "92c0cb1f",
   "metadata": {},
   "outputs": [],
   "source": [
    "X2[0,0] = 20\n",
    "X2"
   ]
  },
  {
   "cell_type": "code",
   "execution_count": null,
   "id": "1bf55c60",
   "metadata": {},
   "outputs": [],
   "source": [
    "X2[0] = 100  # row, all cols\n",
    "X2"
   ]
  },
  {
   "cell_type": "code",
   "execution_count": null,
   "id": "cca16c6b",
   "metadata": {},
   "outputs": [],
   "source": [
    "X2[:,-1] = [1,2]\n",
    "X2"
   ]
  },
  {
   "cell_type": "markdown",
   "id": "86762270",
   "metadata": {
    "slideshow": {
     "slide_type": "slide"
    }
   },
   "source": [
    "## Matrix reshaping\n",
    "\n",
    "It is important to check the shape and reshape during the data pipeline within the model."
   ]
  },
  {
   "cell_type": "code",
   "execution_count": null,
   "id": "dab123c0",
   "metadata": {},
   "outputs": [],
   "source": [
    "z = np.arange(1,7)\n",
    "z"
   ]
  },
  {
   "cell_type": "code",
   "execution_count": null,
   "id": "202700b3",
   "metadata": {},
   "outputs": [],
   "source": [
    "z.shape"
   ]
  },
  {
   "cell_type": "code",
   "execution_count": null,
   "id": "455f8f04",
   "metadata": {},
   "outputs": [],
   "source": [
    "z_t = z.reshape(2,3)\n",
    "z_t"
   ]
  },
  {
   "cell_type": "code",
   "execution_count": null,
   "id": "eecbcd5a",
   "metadata": {},
   "outputs": [],
   "source": [
    "z_t.shape"
   ]
  },
  {
   "cell_type": "code",
   "execution_count": null,
   "id": "66d71eb2",
   "metadata": {},
   "outputs": [],
   "source": [
    "z_t[0]\n"
   ]
  },
  {
   "cell_type": "code",
   "execution_count": null,
   "id": "9f76b048",
   "metadata": {},
   "outputs": [],
   "source": [
    "z_t.reshape(6)\n"
   ]
  },
  {
   "cell_type": "markdown",
   "id": "ba530fda",
   "metadata": {
    "slideshow": {
     "slide_type": "slide"
    }
   },
   "source": [
    "## Numeric operations"
   ]
  },
  {
   "cell_type": "code",
   "execution_count": null,
   "id": "f3a00e6d",
   "metadata": {},
   "outputs": [],
   "source": [
    "A = np.array(range(1,7), dtype='float').reshape(2,3)\n",
    "A"
   ]
  },
  {
   "cell_type": "code",
   "execution_count": null,
   "id": "55a7907d",
   "metadata": {},
   "outputs": [],
   "source": [
    "B = np.array([1, 2, 3])\n",
    "B"
   ]
  },
  {
   "cell_type": "code",
   "execution_count": null,
   "id": "2ede7e55",
   "metadata": {},
   "outputs": [],
   "source": [
    "# dot product, all are the same, A.dot(B), np.dot(A,B), A@B\n",
    "A.dot(B)"
   ]
  },
  {
   "cell_type": "code",
   "execution_count": null,
   "id": "8fa13fae",
   "metadata": {},
   "outputs": [],
   "source": [
    "# this is element wise multipley, not dot prod, `broadcasting` is happening\n",
    "A*B # A [2,3], B[1,3]"
   ]
  },
  {
   "cell_type": "markdown",
   "id": "a86f5a85",
   "metadata": {
    "slideshow": {
     "slide_type": "slide"
    }
   },
   "source": [
    "## Credits\n"
   ]
  },
  {
   "cell_type": "markdown",
   "id": "445a361e",
   "metadata": {
    "slideshow": {
     "slide_type": "-"
    }
   },
   "source": [
    "This note book follws closely with this tutorial, [Numpy tutorial](https://github.com/cgpotts/cs224u/blob/23b120f5f57ee45bc9414d38dc426f76a86f0578/tutorial_numpy.ipynb)."
   ]
  },
  {
   "cell_type": "markdown",
   "id": "520e76a8",
   "metadata": {
    "slideshow": {
     "slide_type": "slide"
    }
   },
   "source": [
    "## References"
   ]
  },
  {
   "cell_type": "markdown",
   "id": "1b101431",
   "metadata": {},
   "source": [
    "[Numpy tutorial](https://github.com/cgpotts/cs224u/blob/23b120f5f57ee45bc9414d38dc426f76a86f0578/tutorial_numpy.ipynb)\n",
    "\n",
    "[Python Numpy Tutorial (with Jupyter and Colab)](https://cs231n.github.io/python-numpy-tutorial/)"
   ]
  },
  {
   "cell_type": "code",
   "execution_count": null,
   "id": "d9bfa4d0",
   "metadata": {},
   "outputs": [],
   "source": []
  }
 ],
 "metadata": {
  "celltoolbar": "Slideshow",
  "kernelspec": {
   "display_name": "Python 3 (ipykernel)",
   "language": "python",
   "name": "python3"
  },
  "language_info": {
   "codemirror_mode": {
    "name": "ipython",
    "version": 3
   },
   "file_extension": ".py",
   "mimetype": "text/x-python",
   "name": "python",
   "nbconvert_exporter": "python",
   "pygments_lexer": "ipython3",
   "version": "3.8.8"
  }
 },
 "nbformat": 4,
 "nbformat_minor": 5
}

{
 "cells": [
  {
   "cell_type": "markdown",
   "id": "0529c6bb",
   "metadata": {
    "slideshow": {
     "slide_type": "slide"
    }
   },
   "source": [
    "# Tutorial: numpy"
   ]
  },
  {
   "cell_type": "markdown",
   "id": "1559eaf5",
   "metadata": {
    "slideshow": {
     "slide_type": "skip"
    }
   },
   "source": [
    "[![Open In Colab](https://colab.research.google.com/assets/colab-badge.svg)](https://colab.research.google.com/github/insop/ML_crash_course/blob/main/tutorial_numpy.ipynb)\n"
   ]
  },
  {
   "cell_type": "markdown",
   "id": "86e7b53f",
   "metadata": {
    "slideshow": {
     "slide_type": "slide"
    }
   },
   "source": [
    "## Contents\n",
    "\n",
    "1. [Motivation](#Motivation)\n",
    "1. [Vectors](#Vectors)\n",
    "  1. [Vector Initialization](#Vector-Initialization)\n",
    "  1. [Vector indexing](#Vector-indexing)\n",
    "  1. [Vector assignment](#Vector-assignment)\n",
    "  1. [Vectorized operations](#Vectorized-operations)\n",
    "  1. [Why vectorized operations](#Why-vectorized-operations)\n",
    "1. [Matrices](#Matrices)\n",
    "  1. [Matrix initialization](#Matrix-initialization)\n",
    "  1. [Matrix indexing](#Matrix-indexing)\n",
    "  1. [Matrix assignment](#Matrix-assignment)\n",
    "  1. [Matrix reshaping](#Matrix-reshaping)\n",
    "  1. [Numeric operations](#Numeric-operations)\n",
    "1. [Credits](#Credits)\n",
    "1. [References](#References)"
   ]
  },
  {
   "cell_type": "markdown",
   "id": "600aa172",
   "metadata": {
    "slideshow": {
     "slide_type": "slide"
    }
   },
   "source": [
    "## Motivation\n",
    "- it allows us to compute vectors and matrices efficiently\n",
    "- it is much performant than native Python\n",
    "- other ML/DL framework ([TensorFlow](https://www.tensorflow.org), [Pytorch](https://pytorch.org)) use numpy style tensor operations\n",
    "\n",
    "In jupyter notebook, `numpy` help is just two cliks away (Help->NumPy Reference)."
   ]
  },
  {
   "cell_type": "markdown",
   "id": "7c1a873f",
   "metadata": {
    "slideshow": {
     "slide_type": "slide"
    }
   },
   "source": [
    "## Vectors"
   ]
  },
  {
   "cell_type": "markdown",
   "id": "ec28d675",
   "metadata": {
    "slideshow": {
     "slide_type": "slide"
    }
   },
   "source": [
    "### Vector initialization\n",
    "\n",
    "Numpy array (`ndarray`) is one or more dimensions values of the same types. \n",
    "\n",
    "They are indexed by non negative integer tuples. \n",
    "\n",
    "Rank represents the number of dimensions of the array. \n",
    "\n",
    "The `shape` shows the dimensions of the array."
   ]
  },
  {
   "cell_type": "code",
   "execution_count": null,
   "id": "2d4ba8a6",
   "metadata": {
    "slideshow": {
     "slide_type": "slide"
    }
   },
   "outputs": [],
   "source": [
    "import numpy as np"
   ]
  },
  {
   "cell_type": "code",
   "execution_count": null,
   "id": "e83c1ec9",
   "metadata": {
    "slideshow": {
     "slide_type": "-"
    }
   },
   "outputs": [],
   "source": [
    "# init '5' zeros with rank #1 array\n",
    "np.zeros(5)"
   ]
  },
  {
   "cell_type": "code",
   "execution_count": null,
   "id": "84630d90",
   "metadata": {},
   "outputs": [],
   "source": [
    "np.ones(5)\n"
   ]
  },
  {
   "cell_type": "code",
   "execution_count": null,
   "id": "93c9b231",
   "metadata": {
    "slideshow": {
     "slide_type": "slide"
    }
   },
   "outputs": [],
   "source": [
    "a=np.zeros(6)\n",
    "print(\"a: {}\".format(a))\n",
    "print(\"a's dim is {}\".format(a.shape))"
   ]
  },
  {
   "cell_type": "code",
   "execution_count": null,
   "id": "5dcdee17",
   "metadata": {},
   "outputs": [],
   "source": [
    "# initialize array with type\n",
    "np.array([1,2,3,4,5], dtype='float')"
   ]
  },
  {
   "cell_type": "code",
   "execution_count": null,
   "id": "96ad17ac",
   "metadata": {
    "slideshow": {
     "slide_type": "-"
    }
   },
   "outputs": [],
   "source": [
    "# 10 random floats in [0,1)\n",
    "np.random.random(10)"
   ]
  },
  {
   "cell_type": "code",
   "execution_count": null,
   "id": "68fd0e7f",
   "metadata": {},
   "outputs": [],
   "source": [
    "# random integers\n",
    "np.random.randint(11,20, size=10) "
   ]
  },
  {
   "cell_type": "markdown",
   "id": "83e4b262",
   "metadata": {
    "slideshow": {
     "slide_type": "slide"
    }
   },
   "source": [
    "### Vector indexing"
   ]
  },
  {
   "cell_type": "code",
   "execution_count": null,
   "id": "6fc0dcff",
   "metadata": {},
   "outputs": [],
   "source": [
    "x = np.array([10,20,30,40,50])"
   ]
  },
  {
   "cell_type": "code",
   "execution_count": null,
   "id": "283cefc2",
   "metadata": {},
   "outputs": [],
   "source": [
    "x[2]"
   ]
  },
  {
   "cell_type": "code",
   "execution_count": null,
   "id": "63740dc4",
   "metadata": {},
   "outputs": [],
   "source": [
    "# slicing\n",
    "x[2:4]"
   ]
  },
  {
   "cell_type": "code",
   "execution_count": null,
   "id": "df8e9376",
   "metadata": {},
   "outputs": [],
   "source": [
    "# last value\n",
    "x[-1]"
   ]
  },
  {
   "cell_type": "code",
   "execution_count": null,
   "id": "f760bd08",
   "metadata": {},
   "outputs": [],
   "source": [
    "# pick values by indices\n",
    "x[[1,2,-1]]"
   ]
  },
  {
   "cell_type": "markdown",
   "id": "55632b10",
   "metadata": {
    "slideshow": {
     "slide_type": "slide"
    }
   },
   "source": [
    "### Vector assignment"
   ]
  },
  {
   "cell_type": "markdown",
   "id": "981eedb1",
   "metadata": {},
   "source": [
    "!!! Be careful when assigning arrays to a new array"
   ]
  },
  {
   "cell_type": "code",
   "execution_count": null,
   "id": "b9b00ad6",
   "metadata": {},
   "outputs": [],
   "source": [
    "# what will happen?\n",
    "x2 = x\n",
    "# x2 = x.copy()"
   ]
  },
  {
   "cell_type": "code",
   "execution_count": null,
   "id": "d79a085c",
   "metadata": {
    "slideshow": {
     "slide_type": "slide"
    }
   },
   "outputs": [],
   "source": [
    "x2[0]=10"
   ]
  },
  {
   "cell_type": "code",
   "execution_count": null,
   "id": "5d442648",
   "metadata": {},
   "outputs": [],
   "source": [
    "x2[[1,2]] = 90\n",
    "x2"
   ]
  },
  {
   "cell_type": "code",
   "execution_count": null,
   "id": "d32df829",
   "metadata": {},
   "outputs": [],
   "source": [
    "x2[[3,4]] = [-1,-2]\n",
    "x2"
   ]
  },
  {
   "cell_type": "code",
   "execution_count": null,
   "id": "f21d83f5",
   "metadata": {},
   "outputs": [],
   "source": [
    "# check the original array (x), what should we do?\n",
    "x"
   ]
  },
  {
   "cell_type": "markdown",
   "id": "42ac3629",
   "metadata": {
    "slideshow": {
     "slide_type": "slide"
    }
   },
   "source": [
    "### Vectorized operations"
   ]
  },
  {
   "cell_type": "code",
   "execution_count": null,
   "id": "04fb9b21",
   "metadata": {},
   "outputs": [],
   "source": [
    "x.sum()"
   ]
  },
  {
   "cell_type": "code",
   "execution_count": null,
   "id": "1b3a8152",
   "metadata": {},
   "outputs": [],
   "source": [
    "x.mean()"
   ]
  },
  {
   "cell_type": "code",
   "execution_count": null,
   "id": "215af97b",
   "metadata": {},
   "outputs": [],
   "source": [
    "x.argmax()"
   ]
  },
  {
   "cell_type": "code",
   "execution_count": null,
   "id": "bb8fa3e7",
   "metadata": {},
   "outputs": [],
   "source": [
    "np.log(x)"
   ]
  },
  {
   "cell_type": "code",
   "execution_count": null,
   "id": "d3e68d5c",
   "metadata": {},
   "outputs": [],
   "source": [
    "np.exp(x)"
   ]
  },
  {
   "cell_type": "markdown",
   "id": "c3c93424",
   "metadata": {
    "slideshow": {
     "slide_type": "slide"
    }
   },
   "source": [
    "### Why vectorized operations\n",
    "\n",
    "Compared to python list, `numpy` vectorized opertions lead to __huge__ performance gains. The following show the comparisions between python list and numpy vectorized operation with 10 million values."
   ]
  },
  {
   "cell_type": "code",
   "execution_count": null,
   "id": "da409a06",
   "metadata": {},
   "outputs": [],
   "source": [
    "# log every value as pyton list, one by one\n",
    "def listlog(vals):\n",
    "    return [np.log(y) for y in vals]"
   ]
  },
  {
   "cell_type": "code",
   "execution_count": null,
   "id": "5397db55",
   "metadata": {},
   "outputs": [],
   "source": [
    "# get random array\n",
    "random_nums = np.random.random_sample(int(1e7))+1\n",
    "random_nums[0:10]"
   ]
  },
  {
   "cell_type": "code",
   "execution_count": null,
   "id": "8cbf85b3",
   "metadata": {},
   "outputs": [],
   "source": [
    "%time _ = np.log(random_nums)"
   ]
  },
  {
   "cell_type": "code",
   "execution_count": null,
   "id": "45becd7d",
   "metadata": {},
   "outputs": [],
   "source": [
    "%time _ = listlog(random_nums)"
   ]
  },
  {
   "cell_type": "markdown",
   "id": "c20f98c2",
   "metadata": {
    "slideshow": {
     "slide_type": "slide"
    }
   },
   "source": [
    "## Matrices\n",
    "\n",
    "The matrix (multi-dimensional vector) is the main data object of machine learning operations."
   ]
  },
  {
   "cell_type": "markdown",
   "id": "46113d5d",
   "metadata": {
    "slideshow": {
     "slide_type": "slide"
    }
   },
   "source": [
    "### Matrix initilzation"
   ]
  },
  {
   "cell_type": "code",
   "execution_count": null,
   "id": "af006855",
   "metadata": {},
   "outputs": [],
   "source": [
    "np.array([[1,2,3],[4,5,6]])"
   ]
  },
  {
   "cell_type": "code",
   "execution_count": null,
   "id": "4d9b30e8",
   "metadata": {},
   "outputs": [],
   "source": [
    "np.array([[1,2,3],[4,5,6]], dtype='float') "
   ]
  },
  {
   "cell_type": "code",
   "execution_count": null,
   "id": "9a08e347",
   "metadata": {},
   "outputs": [],
   "source": [
    "np.zeros((3,5))"
   ]
  },
  {
   "cell_type": "markdown",
   "id": "a4b5c675",
   "metadata": {
    "slideshow": {
     "slide_type": "slide"
    }
   },
   "source": [
    "### Matrix indexing"
   ]
  },
  {
   "cell_type": "code",
   "execution_count": null,
   "id": "e511ffe4",
   "metadata": {
    "scrolled": false
   },
   "outputs": [],
   "source": [
    "X=np.array([[1,2,3],[4,5,6]])\n",
    "X"
   ]
  },
  {
   "cell_type": "code",
   "execution_count": null,
   "id": "196256ca",
   "metadata": {},
   "outputs": [],
   "source": [
    "X[0] # row"
   ]
  },
  {
   "cell_type": "code",
   "execution_count": null,
   "id": "97f3ef24",
   "metadata": {},
   "outputs": [],
   "source": [
    "X[0,0] # row, col"
   ]
  },
  {
   "cell_type": "code",
   "execution_count": null,
   "id": "d8ad10ae",
   "metadata": {},
   "outputs": [],
   "source": [
    "X[0,:] # row, ':' means all, i.e. from * to':'' * "
   ]
  },
  {
   "cell_type": "code",
   "execution_count": null,
   "id": "4958bcad",
   "metadata": {},
   "outputs": [],
   "source": [
    "X[:,1] # column"
   ]
  },
  {
   "cell_type": "code",
   "execution_count": null,
   "id": "7d30c17f",
   "metadata": {},
   "outputs": [],
   "source": [
    "X[:,[0,2]]"
   ]
  },
  {
   "cell_type": "code",
   "execution_count": null,
   "id": "b82bb6d2",
   "metadata": {},
   "outputs": [],
   "source": [
    "# find numbers greater and equal than 4\n",
    "X[X>=4] # try `X>=4` first if this is not clear"
   ]
  },
  {
   "cell_type": "markdown",
   "id": "6a70329f",
   "metadata": {
    "slideshow": {
     "slide_type": "slide"
    }
   },
   "source": [
    "## Matrix assignment\n",
    "\n",
    "Similar to vector assignment, be careful for assignining, use `copy()` when necessary."
   ]
  },
  {
   "cell_type": "code",
   "execution_count": null,
   "id": "b347ed8b",
   "metadata": {},
   "outputs": [],
   "source": [
    "X2=X.copy()"
   ]
  },
  {
   "cell_type": "code",
   "execution_count": null,
   "id": "e8671ef6",
   "metadata": {},
   "outputs": [],
   "source": [
    "X2[0,0] = 20\n",
    "X2"
   ]
  },
  {
   "cell_type": "code",
   "execution_count": null,
   "id": "cefa09a3",
   "metadata": {},
   "outputs": [],
   "source": [
    "X2[0] = 100  # row, all cols\n",
    "X2"
   ]
  },
  {
   "cell_type": "code",
   "execution_count": null,
   "id": "e10efb6b",
   "metadata": {},
   "outputs": [],
   "source": [
    "X2[:,-1] = [1,2]\n",
    "X2"
   ]
  },
  {
   "cell_type": "markdown",
   "id": "9be7b4b2",
   "metadata": {
    "slideshow": {
     "slide_type": "slide"
    }
   },
   "source": [
    "## Matrix reshaping\n",
    "\n",
    "It is important to check the shape and reshape during the data pipeline within the model."
   ]
  },
  {
   "cell_type": "code",
   "execution_count": null,
   "id": "49e55203",
   "metadata": {},
   "outputs": [],
   "source": [
    "z = np.arange(1,7)\n",
    "z"
   ]
  },
  {
   "cell_type": "code",
   "execution_count": null,
   "id": "46619234",
   "metadata": {},
   "outputs": [],
   "source": [
    "z.shape"
   ]
  },
  {
   "cell_type": "code",
   "execution_count": null,
   "id": "87e14ac8",
   "metadata": {},
   "outputs": [],
   "source": [
    "z_t = z.reshape(2,3)\n",
    "z_t"
   ]
  },
  {
   "cell_type": "code",
   "execution_count": null,
   "id": "d59f94ef",
   "metadata": {},
   "outputs": [],
   "source": [
    "z_t.shape"
   ]
  },
  {
   "cell_type": "code",
   "execution_count": null,
   "id": "9363971c",
   "metadata": {},
   "outputs": [],
   "source": [
    "z_t[0]\n"
   ]
  },
  {
   "cell_type": "code",
   "execution_count": null,
   "id": "bc5d5224",
   "metadata": {},
   "outputs": [],
   "source": [
    "z_t.reshape(6)\n"
   ]
  },
  {
   "cell_type": "markdown",
   "id": "c6e6d213",
   "metadata": {
    "slideshow": {
     "slide_type": "slide"
    }
   },
   "source": [
    "## Numeric operations"
   ]
  },
  {
   "cell_type": "code",
   "execution_count": null,
   "id": "d374e5fa",
   "metadata": {},
   "outputs": [],
   "source": [
    "A = np.array(range(1,7), dtype='float').reshape(2,3)\n",
    "A"
   ]
  },
  {
   "cell_type": "code",
   "execution_count": null,
   "id": "b92733e0",
   "metadata": {},
   "outputs": [],
   "source": [
    "B = np.array([1, 2, 3])\n",
    "B"
   ]
  },
  {
   "cell_type": "code",
   "execution_count": null,
   "id": "50b48788",
   "metadata": {},
   "outputs": [],
   "source": [
    "# dot product, all are the same, A.dot(B), np.dot(A,B), A@B\n",
    "A.dot(B)"
   ]
  },
  {
   "cell_type": "code",
   "execution_count": null,
   "id": "79724d80",
   "metadata": {},
   "outputs": [],
   "source": [
    "# this is element wise multiply, not dot prod, `broadcasting` is happening\n",
    "A*B # A [2,3], B[1,3]"
   ]
  },
  {
   "cell_type": "markdown",
   "id": "9dc8a090",
   "metadata": {
    "slideshow": {
     "slide_type": "slide"
    }
   },
   "source": [
    "## Credits\n",
    "\n",
    "This note book follows closely with this tutorial, [Numpy tutorial](https://github.com/cgpotts/cs224u/blob/23b120f5f57ee45bc9414d38dc426f76a86f0578/tutorial_numpy.ipynb).\n"
   ]
  },
  {
   "cell_type": "markdown",
   "id": "520e76a8",
   "metadata": {
    "slideshow": {
     "slide_type": "slide"
    }
   },
   "source": [
    "## References\n",
    "\n",
    "[Numpy tutorial](https://github.com/cgpotts/cs224u/blob/23b120f5f57ee45bc9414d38dc426f76a86f0578/tutorial_numpy.ipynb)\n",
    "\n",
    "[Python Numpy Tutorial (with Jupyter and Colab)](https://cs231n.github.io/python-numpy-tutorial/)"
   ]
  }
 ],
 "metadata": {
  "kernelspec": {
   "display_name": "Python 3 (ipykernel)",
   "language": "python",
   "name": "python3"
  },
  "language_info": {
   "codemirror_mode": {
    "name": "ipython",
    "version": 3
   },
   "file_extension": ".py",
   "mimetype": "text/x-python",
   "name": "python",
   "nbconvert_exporter": "python",
   "pygments_lexer": "ipython3",
   "version": "3.8.11"
  }
 },
 "nbformat": 4,
 "nbformat_minor": 5
}

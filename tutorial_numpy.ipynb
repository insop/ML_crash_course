{
 "cells": [
  {
   "cell_type": "markdown",
   "id": "0529c6bb",
   "metadata": {
    "slideshow": {
     "slide_type": "slide"
    }
   },
   "source": [
    "# Tutorial: numpy"
   ]
  },
  {
   "cell_type": "code",
   "execution_count": 2,
   "id": "2eeb0f5f",
   "metadata": {},
   "outputs": [
    {
     "ename": "SyntaxError",
     "evalue": "invalid syntax (725769873.py, line 1)",
     "output_type": "error",
     "traceback": [
      "\u001b[0;36m  File \u001b[0;32m\"/var/folders/w7/1pcs7p9n7xv5_0jn7rf_1mnh0000gp/T/ipykernel_10570/725769873.py\"\u001b[0;36m, line \u001b[0;32m1\u001b[0m\n\u001b[0;31m    [![Open In Colab](https://colab.research.google.com/assets/colab-badge.svg)](https://colab.research.google.com/github/googlecolab/colabtools/blob/master/notebooks/colab-github-demo.ipynb)\u001b[0m\n\u001b[0m     ^\u001b[0m\n\u001b[0;31mSyntaxError\u001b[0m\u001b[0;31m:\u001b[0m invalid syntax\n"
     ]
    }
   ],
   "source": [
    "[![Open In Colab](https://colab.research.google.com/assets/colab-badge.svg)](https://colab.research.google.com/github/googlecolab/colabtools/blob/master/notebooks/colab-github-demo.ipynb)\n"
   ]
  },
  {
   "cell_type": "markdown",
   "id": "86e7b53f",
   "metadata": {
    "slideshow": {
     "slide_type": "slide"
    }
   },
   "source": [
    "## Contents\n",
    "\n",
    "1. [Motivation](#Motivation)\n",
    "1. [Vectors](#Vectors)"
   ]
  },
  {
   "cell_type": "markdown",
   "id": "600aa172",
   "metadata": {
    "slideshow": {
     "slide_type": "slide"
    }
   },
   "source": [
    "## Motivation\n",
    "- it allows us to compute vectors and matrices efficiently\n",
    "- it is much performant than native Python\n",
    "- other ML/DL framework ([TensorFlow](https://www.tensorflow.org), [Pytorch](https://pytorch.org)) use numpy style tensor operations\n",
    "\n",
    "In jupyter notebook, `numpy` help is just two cliks away (Help->NumPy Reference)."
   ]
  },
  {
   "cell_type": "markdown",
   "id": "7c1a873f",
   "metadata": {},
   "source": [
    "## Vectors"
   ]
  },
  {
   "cell_type": "code",
   "execution_count": 1,
   "id": "2d4ba8a6",
   "metadata": {},
   "outputs": [],
   "source": [
    "import numpy as np"
   ]
  },
  {
   "cell_type": "markdown",
   "id": "520e76a8",
   "metadata": {
    "slideshow": {
     "slide_type": "slide"
    }
   },
   "source": [
    "## References"
   ]
  },
  {
   "cell_type": "markdown",
   "id": "1b101431",
   "metadata": {},
   "source": [
    "[Numpy tutorial](https://github.com/cgpotts/cs224u/blob/23b120f5f57ee45bc9414d38dc426f76a86f0578/tutorial_numpy.ipynb)\n",
    "\n",
    "[Python Numpy Tutorial (with Jupyter and Colab)](https://cs231n.github.io/python-numpy-tutorial/)"
   ]
  },
  {
   "cell_type": "code",
   "execution_count": null,
   "id": "d9bfa4d0",
   "metadata": {},
   "outputs": [],
   "source": []
  }
 ],
 "metadata": {
  "celltoolbar": "Slideshow",
  "kernelspec": {
   "display_name": "Python 3 (ipykernel)",
   "language": "python",
   "name": "python3"
  },
  "language_info": {
   "codemirror_mode": {
    "name": "ipython",
    "version": 3
   },
   "file_extension": ".py",
   "mimetype": "text/x-python",
   "name": "python",
   "nbconvert_exporter": "python",
   "pygments_lexer": "ipython3",
   "version": "3.8.8"
  }
 },
 "nbformat": 4,
 "nbformat_minor": 5
}

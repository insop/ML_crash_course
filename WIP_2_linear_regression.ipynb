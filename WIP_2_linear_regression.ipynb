{
 "cells": [
  {
   "cell_type": "markdown",
   "id": "d68dc640",
   "metadata": {
    "slideshow": {
     "slide_type": "slide"
    }
   },
   "source": [
    "# (WIP) Linear regression"
   ]
  },
  {
   "cell_type": "markdown",
   "id": "3174c754",
   "metadata": {
    "slideshow": {
     "slide_type": "slide"
    }
   },
   "source": [
    "## Overview\n",
    "- recap from previous [notebook](https://github.com/insop/ML_crash_course/blob/main/1_ml_overview.ipynb)\n",
    "- linear regression framework\n",
    "- type: which predictor?\n",
    "- loss function: how good is the predictor?\n",
    "- optimization: how to compute the best predictor?\n",
    "- sample example\n",
    "***"
   ]
  },
  {
   "cell_type": "markdown",
   "id": "7a4c5306",
   "metadata": {
    "slideshow": {
     "slide_type": "slide"
    }
   },
   "source": [
    "## Recap\n",
    "\n",
    "- ML as a way to predict target values or types by using training dataset.\n",
    "- Classification task predicts categories and \n",
    "- regression tasks predicts real numbers.\n",
    "\n",
    "- Supervised learning uses labeled dataset to train\n",
    "- Unsupervised learning tryies to cluster\n",
    "- a simple regression example\n",
    "\n",
    "- `numpy` and `pandas`.\n",
    "***"
   ]
  },
  {
   "cell_type": "markdown",
   "id": "4cde641b",
   "metadata": {
    "slideshow": {
     "slide_type": "skip"
    }
   },
   "source": [
    "Previously, we have reviewed ML as a way to predict target values or types by using training dataset. Classification task predicts categories and regression tasks predicts real numbers.\n",
    "\n",
    "For the type of training, supervised learning uses labeled dataset to train and unsupervised learning tryies to cluster or find implcit information from unlabeled dataset.\n",
    "We havre reviewed a simple regression task that predicts life expectancy based on GDP per capita\n",
    "\n",
    "For the tools, we have reviewed `numpy` and `pandas`.\n",
    "***"
   ]
  },
  {
   "cell_type": "code",
   "execution_count": 30,
   "id": "afa83419",
   "metadata": {
    "scrolled": false,
    "slideshow": {
     "slide_type": "skip"
    }
   },
   "outputs": [
    {
     "name": "stdout",
     "output_type": "stream",
     "text": [
      "Saving figure linear_regression_example_1\n",
      "Saving figure linear_regression_example_2\n",
      "Saving figure linear_regression_example_3\n",
      "Saving figure linear_regression_example_4\n"
     ]
    },
    {
     "data": {
      "image/png": "[encoded data removed]",
      "text/plain": [
       "<Figure size 432x288 with 1 Axes>"
      ]
     },
     "metadata": {
      "needs_background": "light"
     },
     "output_type": "display_data"
    }
   ],
   "source": [
    "# TODO move to a separate file\n",
    "# import libraries\n",
    "\n",
    "import sklearn\n",
    "import sys\n",
    "\n",
    "import matplotlib.pyplot as plt # graph\n",
    "import numpy as np # number handling\n",
    "import pandas as pd # structured data handling\n",
    "import sklearn.linear_model\n",
    "import os\n",
    "\n",
    "# enable this when running locally\n",
    "from utils import save_fig\n",
    "\n",
    "# linear regression sample data set and plot\n",
    "\n",
    "# First plot\n",
    "training_data = {\n",
    "    'x':[1,2,4], \n",
    "    'y':[1,3,3]}\n",
    "\n",
    "plt.axis([0, 5, 0, 4])\n",
    "plt.plot(training_data['x'], training_data['y'],'bo')\n",
    "plt.xlabel(\"x\")\n",
    "plt.ylabel(\"y\")\n",
    "plt.text(2, 1.5, \"x: {}\".format(training_data['x']), fontsize=14, color=\"b\")\n",
    "plt.text(2, 1.0, \"y: {}\".format(training_data['y']), fontsize=14, color=\"b\")\n",
    "plt.text(2, 0.5, \"When x = 3, what will be y?\", fontsize=14, color=\"r\")\n",
    "plt.grid()\n",
    "\n",
    "save_fig(\"linear_regression_example_1\")\n",
    "X = X=np.linspace(0, 5, 50)\n",
    "plt.plot(X, 0.7*X+1, \"g\")\n",
    "x_new = 3\n",
    "plt.plot(x_new, 0.7*x_new+1, \"ro\")\n",
    "save_fig(\"linear_regression_example_2\")\n",
    "\n",
    "# Clear Figure\n",
    "plt.clf()\n",
    "plt.axis([0, 5, 0, 4])\n",
    "plt.plot(training_data['x'], training_data['y'],'bo')\n",
    "plt.xlabel(\"x\")\n",
    "plt.ylabel(\"y\")\n",
    "plt.grid()\n",
    "plt.plot(X, 0.7*X+1, \"g\")\n",
    "plt.plot(X, 0.3*X+2, \"r\")\n",
    "# plt.plot(X, 0.3*X+2, \"g\")\n",
    "plt.text(2, 1.5, \"f(x) = 0.7x + 1\", fontsize=14, color=\"g\")\n",
    "plt.text(2, 1.0, \"f(x) = 0.3X + 2\", fontsize=14, color=\"r\")\n",
    "plt.text(2, 0.5, r\"Find $w_1$, $w_2$ in $f(x) = w_1X + w_2$\", fontsize=14, color=\"b\")\n",
    "save_fig(\"linear_regression_example_3\")\n",
    "# plt.show()\n",
    "\n",
    "\n",
    "# Clear Figure\n",
    "plt.clf()\n",
    "plt.axis([0, 5, 0, 4])\n",
    "plt.plot(training_data['x'], training_data['y'],'bo')\n",
    "plt.xlabel(\"x\")\n",
    "plt.ylabel(\"y\")\n",
    "plt.grid()\n",
    "w = [0.7, 1]\n",
    "plt.plot(X, w[0]*X+w[1], \"g\")\n",
    "\n",
    "for i in range(len(training_data)+1):\n",
    "    plt.plot([training_data['x'][i], training_data['x'][i]],\n",
    "             [training_data['y'][i], w[0]*training_data['x'][i]+w[1]], 'r-')\n",
    "    \n",
    "plt.text(1.1, 1.5, \"residual\", fontsize=14, color=\"r\")\n",
    "save_fig(\"linear_regression_example_4\")\n"
   ]
  },
  {
   "cell_type": "markdown",
   "id": "e50c2bab",
   "metadata": {
    "slideshow": {
     "slide_type": "slide"
    }
   },
   "source": [
    "## Linear regression\n",
    "\n",
    "- Whe we have these point pairs, can we predict $y$ for new $x$, such as 3?\n",
    "- $x$ :[1,2,4], $y$:[1,3,3]\n",
    "\n",
    "![linear_regression_example_1](figures/linear_regression_example_1.png)"
   ]
  },
  {
   "cell_type": "markdown",
   "id": "4f6c8f80",
   "metadata": {
    "slideshow": {
     "slide_type": "slide"
    }
   },
   "source": [
    "## Linear regression\n",
    "- if we can learn this linear line, then we can predict $y$ give new $x$\n",
    "\n",
    "![linear_regression_example_2](figures/linear_regression_example_2.png)"
   ]
  },
  {
   "cell_type": "markdown",
   "id": "2b791364",
   "metadata": {
    "slideshow": {
     "slide_type": "slide"
    }
   },
   "source": [
    "## Linear regression\n",
    "\n",
    "- predicts values based on input dataset\n",
    "- $x$ (input) $\\rightarrow$ $f$ (predictor) $\\rightarrow$ $\\hat{y}$ (output)\n",
    "- How to design predictor?\n",
    "    - what type of predictor to use\n",
    "    - how to measure the goodness? **loss function**\n",
    "    - how to compute the predictor? **optimization**\n",
    "***"
   ]
  },
  {
   "cell_type": "markdown",
   "id": "1be1e69e",
   "metadata": {
    "slideshow": {
     "slide_type": "slide"
    }
   },
   "source": [
    "## Linear regression\n",
    "\n",
    "- we want to find $f(x) = w_1 x + w_2$\n",
    "- weight vector $W= [w_1, w_2]$\n",
    "- feature vector $\\phi(x) = [x, 1]$\n",
    "- $f(x) = W \\cdot \\phi(x)$\n",
    "![linear_regression_example_3](figures/linear_regression_example_3.png)"
   ]
  },
  {
   "cell_type": "markdown",
   "id": "bed2c765",
   "metadata": {
    "slideshow": {
     "slide_type": "slide"
    }
   },
   "source": [
    "## Loss function: how good is a predictor?\n",
    "\n",
    "- $Loss(x, y, W)$ = ($f(x) - y)^2$, **squared loss**\n",
    "- Train_loss($W$) = $\\frac{1}{|D_{train}|}\\sum_{{(x,y)}\\in D_{train}} Loss(x, y, W)$, avg of losses\n",
    "\n",
    "![linear_regression_example_4](figures/linear_regression_example_4.png)"
   ]
  },
  {
   "cell_type": "markdown",
   "id": "5bd85273",
   "metadata": {
    "slideshow": {
     "slide_type": "slide"
    }
   },
   "source": [
    "## Optimization"
   ]
  },
  {
   "cell_type": "code",
   "execution_count": null,
   "id": "cd69005a",
   "metadata": {},
   "outputs": [],
   "source": []
  },
  {
   "cell_type": "markdown",
   "id": "87dd760e",
   "metadata": {},
   "source": [
    "## Features and vectors"
   ]
  },
  {
   "cell_type": "markdown",
   "id": "cd8e700e",
   "metadata": {},
   "source": [
    "TODO HERE\n",
    "\n",
    "**NOTE** find a good way to represent the linear regression from ML book?\n",
    "use book examples and elaborate with the values and equations \n",
    "skip jobian"
   ]
  },
  {
   "cell_type": "code",
   "execution_count": null,
   "id": "a94cc353",
   "metadata": {},
   "outputs": [],
   "source": []
  },
  {
   "cell_type": "markdown",
   "id": "d1bf6ae1",
   "metadata": {},
   "source": [
    "\n"
   ]
  },
  {
   "cell_type": "markdown",
   "id": "fd2cdfd2",
   "metadata": {},
   "source": [
    "## Summary\n",
    "- review linear regression\n",
    "- how to form linear regression\n",
    "- loss function\n",
    "- optimization"
   ]
  },
  {
   "cell_type": "markdown",
   "id": "b94ec582",
   "metadata": {},
   "source": [
    "## Credits\n",
    "\n",
    "This notebook uses the contents from the followring materials:\n",
    "\n",
    "1. [cs221 ML linear regression](https://stanford-cs221.github.io/autumn2021-extra/modules/machine-learning/linear-regression.pdf)\n"
   ]
  },
  {
   "cell_type": "markdown",
   "id": "b3cbc932",
   "metadata": {},
   "source": [
    "## Further readings\n",
    "\n",
    "1. Chapter 1 from Book [Hands-on Machine Learning with Scikit-Learn, Keras and TensorFlow](https://www.oreilly.com/library/view/hands-on-machine-learning/9781492032632/)\n",
    "1. [cs221 ML linear regression](https://stanford-cs221.github.io/autumn2021-extra/modules/machine-learning/linear-regression.pdf)\n",
    "1. [Jovian's Linear Regression with Scikit Learn](https://jovian.ai/learn/machine-learning-with-python-zero-to-gbms/lesson/linear-regression-with-scikit-learn)"
   ]
  },
  {
   "cell_type": "code",
   "execution_count": null,
   "id": "a221ee9e",
   "metadata": {},
   "outputs": [],
   "source": []
  }
 ],
 "metadata": {
  "celltoolbar": "Slideshow",
  "kernelspec": {
   "display_name": "Python 3 (ipykernel)",
   "language": "python",
   "name": "python3"
  },
  "language_info": {
   "codemirror_mode": {
    "name": "ipython",
    "version": 3
   },
   "file_extension": ".py",
   "mimetype": "text/x-python",
   "name": "python",
   "nbconvert_exporter": "python",
   "pygments_lexer": "ipython3",
   "version": "3.8.12"
  }
 },
 "nbformat": 4,
 "nbformat_minor": 5
}

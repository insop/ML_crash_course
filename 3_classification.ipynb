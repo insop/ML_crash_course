{
 "cells": [
  {
   "cell_type": "markdown",
   "id": "423da1fc",
   "metadata": {},
   "source": [
    "# Classification"
   ]
  },
  {
   "cell_type": "markdown",
   "id": "5917efb5",
   "metadata": {},
   "source": [
    "[![Open In Colab](https://colab.research.google.com/assets/colab-badge.svg)](https://colab.research.google.com/github/insop/ML_crash_course/blob/main/3_classification.ipynb)"
   ]
  },
  {
   "cell_type": "markdown",
   "id": "2728b2cb",
   "metadata": {},
   "source": [
    "## Overview\n",
    "- recap from previous [notebook](https://github.com/insop/ML_crash_course/blob/main/2_linear_regression.ipynb)\n",
    "- classification task\n",
    "\n",
    "***"
   ]
  },
  {
   "cell_type": "markdown",
   "id": "ed3c7b82",
   "metadata": {},
   "source": [
    "## Recap from [previous notebook](https://github.com/insop/ML_crash_course/blob/main/2_linear_regression.ipynb)\n",
    "\n",
    "\n",
    "\n",
    "- how to form linear regression\n",
    "- how to measure goodness of the hypothesis? *loss function*\n",
    "- how to find the best parameters (weights)? *optimization*\n",
    "- gradient descent method, $w \\leftarrow w - \\eta$ $\\nabla$ Train_loss($W$) "
   ]
  },
  {
   "cell_type": "markdown",
   "id": "78912f2a",
   "metadata": {},
   "source": [
    "## Classfiction task\n",
    "\n",
    "- predicts the class of output\n",
    "- binary classifier, output classes are 0 or 1\n",
    "- multi class classifier\n",
    "\n",
    "We will use binary classifier first, classifier takes input and produce scalar output.\n",
    "\n",
    "$x$ (input) $\\rightarrow$ $f$ (classifier)\n",
    "\n",
    "Based on the value, we can decide if the predicted output is 0 or 1.\n",
    "\n",
    "Multi class classification can be extended by using binary classfifcaiton.\n",
    "\n",
    "We will show an example of binary classifier using logistic regression model."
   ]
  },
  {
   "cell_type": "markdown",
   "id": "416fbe87",
   "metadata": {},
   "source": [
    "## Classificaiton example"
   ]
  },
  {
   "cell_type": "code",
   "execution_count": 1,
   "id": "3cfde1a2",
   "metadata": {},
   "outputs": [],
   "source": [
    "import numpy as np\n",
    "import matplotlib.pyplot as plt\n",
    "\n",
    "from matplotlib import colors\n",
    "from sklearn.linear_model import LogisticRegression\n",
    "from sklearn.pipeline import Pipeline\n",
    "from sklearn.preprocessing import PolynomialFeatures, StandardScaler\n",
    "from scipy.special import logit\n",
    "\n",
    "%matplotlib inline"
   ]
  },
  {
   "cell_type": "markdown",
   "id": "89b05507",
   "metadata": {},
   "source": [
    "### Load dataset, which include 2 features (2 exam scores), and admittance result.\n"
   ]
  },
  {
   "cell_type": "code",
   "execution_count": 2,
   "id": "812198ea",
   "metadata": {},
   "outputs": [],
   "source": [
    "# Admission data: \n",
    "# - exam 1 score (x1) \n",
    "# - exam 2 score (x2)\n",
    "# - admitted (y)\n",
    "\n",
    "data = np.loadtxt('datasets/ex2data1.txt', delimiter=',')"
   ]
  },
  {
   "cell_type": "code",
   "execution_count": 3,
   "id": "8d905b51",
   "metadata": {},
   "outputs": [],
   "source": [
    "# Separate features (x1, x2) from target (y)\n",
    "X, y = np.hsplit(data, np.array([2]))"
   ]
  },
  {
   "cell_type": "markdown",
   "id": "c82e34d6",
   "metadata": {},
   "source": [
    "### Good practice is to split train and test data. Train dataset is used to train model. Test dataset is used evaluate the final mode."
   ]
  },
  {
   "cell_type": "code",
   "execution_count": 4,
   "id": "388400a1",
   "metadata": {},
   "outputs": [],
   "source": [
    "# train test split\n",
    "\n",
    "# Split in training and testing\n",
    "from sklearn.model_selection import train_test_split\n",
    "X_train, X_test, y_train, y_test = train_test_split(X, y, test_size=0.25)"
   ]
  },
  {
   "cell_type": "code",
   "execution_count": 5,
   "id": "be7c8880",
   "metadata": {},
   "outputs": [],
   "source": [
    "# LogisticRegression estimator expect an y row vector\n",
    "y_train = y_train.squeeze()\n",
    "y_test = y_test.squeeze()"
   ]
  },
  {
   "cell_type": "markdown",
   "id": "72091c1f",
   "metadata": {},
   "source": [
    "### We will use logictic regression model."
   ]
  },
  {
   "cell_type": "code",
   "execution_count": 6,
   "id": "6284f2c1",
   "metadata": {},
   "outputs": [
    {
     "data": {
      "text/plain": [
       "LogisticRegression(C=1000000000.0)"
      ]
     },
     "execution_count": 6,
     "metadata": {},
     "output_type": "execute_result"
    }
   ],
   "source": [
    "# define logistic regression\n",
    "\n",
    "# Parameter C is the inverse regularization strength (high values = low regularization).\n",
    "clf = LogisticRegression(C=1e9, solver='lbfgs')\n",
    "clf.fit(X_train, y_train)"
   ]
  },
  {
   "cell_type": "code",
   "execution_count": 7,
   "id": "c7e8b510",
   "metadata": {},
   "outputs": [],
   "source": [
    "# learned parameters\n",
    "\n",
    "theta0 = clf.intercept_[0]\n",
    "theta1 = clf.coef_[0,0]\n",
    "theta2 = clf.coef_[0,1]"
   ]
  },
  {
   "cell_type": "markdown",
   "id": "a11d15f5",
   "metadata": {},
   "source": [
    "### The following code cells for plot the results."
   ]
  },
  {
   "cell_type": "code",
   "execution_count": 8,
   "id": "3941128f",
   "metadata": {},
   "outputs": [],
   "source": [
    "# Computes x2 at y = logit(0.5) from x1 and model parameters\n",
    "# based on equation y = sigmoid(theta0 + theta1*x1 + theta2*x2)\n",
    "# logit(p) = log(p/(1-p)).\n",
    "# (used for computing the linear decision boundary)\n",
    "def x2(x1):\n",
    "    return (logit(0.5) - theta0 - theta1*x1) / theta2"
   ]
  },
  {
   "cell_type": "code",
   "execution_count": 9,
   "id": "bd02ce69",
   "metadata": {},
   "outputs": [],
   "source": [
    "x1_min = X[:,0].min()\n",
    "x1_max = X[:,0].max()"
   ]
  },
  {
   "cell_type": "code",
   "execution_count": 10,
   "id": "e9ba01e9",
   "metadata": {},
   "outputs": [],
   "source": [
    "# x1 and x2 data of linear decision boundary\n",
    "x1_plot = np.array([x1_min, x1_max])\n",
    "x2_plot = x2(x1_plot)"
   ]
  },
  {
   "cell_type": "markdown",
   "id": "1bb54dba",
   "metadata": {},
   "source": [
    "### Plot with training data"
   ]
  },
  {
   "cell_type": "code",
   "execution_count": 11,
   "id": "c7046248",
   "metadata": {
    "scrolled": false
   },
   "outputs": [
    {
     "data": {
      "text/plain": [
       "[<matplotlib.lines.Line2D at 0x12f460070>]"
      ]
     },
     "execution_count": 11,
     "metadata": {},
     "output_type": "execute_result"
    },
    {
     "data": {
      "image/png": "[encoded data removed]",
      "text/plain": [
       "<Figure size 432x288 with 1 Axes>"
      ]
     },
     "metadata": {
      "needs_background": "light"
     },
     "output_type": "display_data"
    }
   ],
   "source": [
    "fig, ax = plt.subplots()\n",
    "\n",
    "# Mask for selecting positive and negative examples\n",
    "y_pos = y_train == 1\n",
    "y_neg = y_train == 0\n",
    "\n",
    "# Plot examples and decision boundary\n",
    "ax.plot(X_train[y_pos,0], X_train[y_pos,1], 'b+', label='Admitted')\n",
    "ax.plot(X_train[y_neg,0], X_train[y_neg,1], 'yo', label='Not admitted')\n",
    "ax.set_xlabel('Exam 1 score')\n",
    "ax.set_ylabel('Exam 2 score')\n",
    "ax.legend(loc='upper right')\n",
    "\n",
    "# Plot decision boundary\n",
    "ax.plot(x1_plot, x2_plot)"
   ]
  },
  {
   "cell_type": "markdown",
   "id": "1fd3c63d",
   "metadata": {},
   "source": [
    "The accuracy of the model with training dataset."
   ]
  },
  {
   "cell_type": "code",
   "execution_count": 12,
   "id": "9c743748",
   "metadata": {},
   "outputs": [
    {
     "data": {
      "text/plain": [
       "0.9333333333333333"
      ]
     },
     "execution_count": 12,
     "metadata": {},
     "output_type": "execute_result"
    }
   ],
   "source": [
    "# Return the mean accuracy on the given test data and labels.\n",
    "\n",
    "clf.score(X_train, y_train)"
   ]
  },
  {
   "cell_type": "code",
   "execution_count": 13,
   "id": "1d162d70",
   "metadata": {},
   "outputs": [],
   "source": [
    "y_train_pred=clf.predict(X_train)"
   ]
  },
  {
   "cell_type": "markdown",
   "id": "b0e31400",
   "metadata": {},
   "source": [
    "### Plot for test data"
   ]
  },
  {
   "cell_type": "code",
   "execution_count": 14,
   "id": "18a273d3",
   "metadata": {
    "scrolled": true
   },
   "outputs": [
    {
     "data": {
      "text/plain": [
       "[<matplotlib.lines.Line2D at 0x12f569310>]"
      ]
     },
     "execution_count": 14,
     "metadata": {},
     "output_type": "execute_result"
    },
    {
     "data": {
      "image/png": "[encoded data removed]",
      "text/plain": [
       "<Figure size 432x288 with 1 Axes>"
      ]
     },
     "metadata": {
      "needs_background": "light"
     },
     "output_type": "display_data"
    }
   ],
   "source": [
    "fig, ax = plt.subplots()\n",
    "\n",
    "# Mask for selecting positive and negative examples\n",
    "y_pos = y_test == 1\n",
    "y_neg = y_test == 0\n",
    "\n",
    "# Plot examples and decision boundary\n",
    "ax.plot(X_test[y_pos,0], X_test[y_pos,1], 'b+', label='Admitted')\n",
    "ax.plot(X_test[y_neg,0], X_test[y_neg,1], 'yo', label='Not admitted')\n",
    "ax.set_xlabel('Exam 1 score')\n",
    "ax.set_ylabel('Exam 2 score')\n",
    "ax.legend(loc='upper right')\n",
    "\n",
    "# Plot decision boundary\n",
    "ax.plot(x1_plot, x2_plot)"
   ]
  },
  {
   "cell_type": "markdown",
   "id": "2a258e2a",
   "metadata": {},
   "source": [
    "The accuracy of the mode with test dataset (held out dataset), which is used for measuring final model performance."
   ]
  },
  {
   "cell_type": "code",
   "execution_count": 15,
   "id": "6fb47fe4",
   "metadata": {},
   "outputs": [
    {
     "data": {
      "text/plain": [
       "0.76"
      ]
     },
     "execution_count": 15,
     "metadata": {},
     "output_type": "execute_result"
    }
   ],
   "source": [
    "# Return the mean accuracy on the given test data and labels.\n",
    "\n",
    "clf.score(X_test, y_test)"
   ]
  },
  {
   "cell_type": "code",
   "execution_count": 16,
   "id": "4160e3da",
   "metadata": {},
   "outputs": [],
   "source": [
    "y_test_pred=clf.predict(X_test)"
   ]
  },
  {
   "cell_type": "markdown",
   "id": "c9b380a2",
   "metadata": {},
   "source": [
    "### Precision\n",
    "\n",
    "Precision = $\\frac{TP}{TP+FP}$, among predicted to be true (TP+FP), how many of them are true (TP)"
   ]
  },
  {
   "cell_type": "code",
   "execution_count": 26,
   "id": "ca1f18e6",
   "metadata": {},
   "outputs": [
    {
     "data": {
      "text/plain": [
       "0.9285714285714286"
      ]
     },
     "execution_count": 26,
     "metadata": {},
     "output_type": "execute_result"
    }
   ],
   "source": [
    "from sklearn.metrics import precision_score, recall_score\n",
    "\n",
    "precision_score(y_test, y_test_pred)"
   ]
  },
  {
   "cell_type": "markdown",
   "id": "7dd5b55c",
   "metadata": {},
   "source": [
    "### Recall\n",
    "\n",
    "Recall = $\\frac{TP}{TP+FN}$, among real true (TP+FN), how many of them are true"
   ]
  },
  {
   "cell_type": "code",
   "execution_count": 25,
   "id": "f032c4bd",
   "metadata": {},
   "outputs": [
    {
     "data": {
      "text/plain": [
       "0.7222222222222222"
      ]
     },
     "execution_count": 25,
     "metadata": {},
     "output_type": "execute_result"
    }
   ],
   "source": [
    "recall_score(y_test, y_test_pred)"
   ]
  },
  {
   "cell_type": "markdown",
   "id": "eeeeaabe",
   "metadata": {},
   "source": [
    "### F1 score\n",
    "\n",
    "F1 score = $\\frac{2}{\\frac{1}{precision}+\\frac{1}{recall}}$"
   ]
  },
  {
   "cell_type": "code",
   "execution_count": 28,
   "id": "7785db0c",
   "metadata": {},
   "outputs": [
    {
     "data": {
      "text/plain": [
       "0.8125000000000001"
      ]
     },
     "execution_count": 28,
     "metadata": {},
     "output_type": "execute_result"
    }
   ],
   "source": [
    "from sklearn.metrics import f1_score\n",
    "\n",
    "f1_score(y_test, y_test_pred)"
   ]
  },
  {
   "cell_type": "markdown",
   "id": "4021b799",
   "metadata": {},
   "source": [
    "### Confusion matrix"
   ]
  },
  {
   "cell_type": "code",
   "execution_count": 29,
   "id": "318aae7e",
   "metadata": {},
   "outputs": [
    {
     "data": {
      "text/plain": [
       "array([[ 6,  1],\n",
       "       [ 5, 13]])"
      ]
     },
     "execution_count": 29,
     "metadata": {},
     "output_type": "execute_result"
    }
   ],
   "source": [
    "from sklearn.metrics import confusion_matrix\n",
    "cm = confusion_matrix(y_test, y_test_pred)\n",
    "cm"
   ]
  },
  {
   "cell_type": "code",
   "execution_count": 30,
   "id": "bc7aafee",
   "metadata": {
    "scrolled": true
   },
   "outputs": [
    {
     "data": {
      "image/png": "[encoded data removed]",
      "text/plain": [
       "<Figure size 432x288 with 2 Axes>"
      ]
     },
     "metadata": {
      "needs_background": "light"
     },
     "output_type": "display_data"
    }
   ],
   "source": [
    "import seaborn as sns\n",
    "\n",
    "ax = sns.heatmap(cm, annot=True, cmap='Blues')\n",
    "\n",
    "ax.set_title('Seaborn Confusion Matrix with labels\\n\\n');\n",
    "ax.set_xlabel('\\nPredicted Values')\n",
    "ax.set_ylabel('Actual Values ');\n",
    "\n",
    "## Ticket labels - List must be in alphabetical order\n",
    "ax.xaxis.set_ticklabels(['False','True'])\n",
    "ax.yaxis.set_ticklabels(['False','True'])\n",
    "\n",
    "## Display the visualization of the Confusion Matrix.\n",
    "plt.show()"
   ]
  },
  {
   "cell_type": "markdown",
   "id": "1f1f5f72",
   "metadata": {},
   "source": [
    "## Summary\n",
    "- review classification\n",
    "- classification example\n",
    "***"
   ]
  },
  {
   "cell_type": "markdown",
   "id": "d15c2b0a",
   "metadata": {},
   "source": [
    "## Credits\n",
    "\n",
    "This notebook uses the contents from the followring materials:\n",
    "\n",
    "1. Chapter 2 from Book [Hands-on Machine Learning with Scikit-Learn, Keras and TensorFlow](https://www.oreilly.com/library/view/hands-on-machine-learning/9781492032632/)\n",
    "1. [Example code from https://github.com/krasserm](https://github.com/krasserm/machine-learning-notebooks/blob/1a0b8b65a0d2013af0e0b304e792199be2e54973/ml-ex2.ipynb)"
   ]
  }
 ],
 "metadata": {
  "kernelspec": {
   "display_name": "Python 3.8.12 ('pytorch_env')",
   "language": "python",
   "name": "python3812jvsc74a57bd03fa8f9c45b60853bb3d615f814548b5337da45fc6ea40b493b018f80b808d764"
  },
  "language_info": {
   "codemirror_mode": {
    "name": "ipython",
    "version": 3
   },
   "file_extension": ".py",
   "mimetype": "text/x-python",
   "name": "python",
   "nbconvert_exporter": "python",
   "pygments_lexer": "ipython3",
   "version": "3.8.12"
  }
 },
 "nbformat": 4,
 "nbformat_minor": 5
}

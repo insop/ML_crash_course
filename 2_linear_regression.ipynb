{
 "cells": [
  {
   "cell_type": "markdown",
   "id": "eabccae9",
   "metadata": {},
   "source": [
    "# Linear regression"
   ]
  },
  {
   "cell_type": "markdown",
   "id": "f6db2683",
   "metadata": {},
   "source": [
    "## Overview\n",
    "- recap from previous [notebook](https://github.com/insop/ML_crash_course/blob/main/1_ml_overview.ipynb)\n",
    "- linear regression framework\n",
    "- type: which predictor?\n",
    "- loss function: how good is the predictor?\n",
    "- optimization: how to compute the best predictor?\n",
    "- sample example"
   ]
  },
  {
   "cell_type": "markdown",
   "id": "69c7b686",
   "metadata": {},
   "source": [
    "## Recap\n",
    "Previously, we have reviewed ML as a way to predict target values or types by using training dataset. Classification task predicts categories and regression tasks predicts real numbers.\n",
    "\n",
    "For the type of training, supervised learning uses labeled dataset to train and unsupervised learning tryies to cluster or find implcit information from unlabeled dataset.\n",
    "We havre reviewed a simple regression task that predicts life expectancy based on GDP per capita\n",
    "\n",
    "For the tools, we have reviewed `numpy` and `pandas`."
   ]
  },
  {
   "cell_type": "markdown",
   "id": "f7550d70",
   "metadata": {},
   "source": [
    "## Linear regression\n",
    "- predicts values based on input dataset\n",
    "- $x$ (input) $\\rightarrow$ $f$ (predictor) $\\rightarrow$ $\\hat{y}$ (output)\n",
    "- How to design predictor?\n",
    "    - what type of predictor to use\n",
    "    - how to measure the goodness? **loss function**\n",
    "    - how to compute the predictor? **optimization**"
   ]
  },
  {
   "cell_type": "markdown",
   "id": "c39752df",
   "metadata": {},
   "source": [
    "TODO HERE\n",
    "\n",
    "**NOTE** find a good way to represent the linear regression from ML book?\n",
    "use book examples and elaborate with the values and equations \n",
    "skip jobian"
   ]
  },
  {
   "cell_type": "code",
   "execution_count": null,
   "id": "f81f455e",
   "metadata": {},
   "outputs": [],
   "source": []
  },
  {
   "cell_type": "code",
   "execution_count": null,
   "id": "89f439f7",
   "metadata": {},
   "outputs": [],
   "source": []
  },
  {
   "cell_type": "markdown",
   "id": "d1bf6ae1",
   "metadata": {},
   "source": [
    "Image test\n",
    "![Imgur](https://i.imgur.com/XJOH7jw.png)\n"
   ]
  },
  {
   "cell_type": "markdown",
   "id": "799781c8",
   "metadata": {},
   "source": [
    "## Summary\n",
    "- review linear regression\n",
    "- reviewed sample problem"
   ]
  },
  {
   "cell_type": "markdown",
   "id": "c79cd2ba",
   "metadata": {},
   "source": [
    "## Credits\n",
    "\n",
    "This notebook uses excellent contents from the following materials:\n",
    "1. Chapter 1 from Book [Hands-on Machine Learning with Scikit-Learn, Keras and TensorFlow](https://www.oreilly.com/library/view/hands-on-machine-learning/9781492032632/)\n",
    "1. [cs221 ML linear regression](https://stanford-cs221.github.io/autumn2021-extra/modules/machine-learning/linear-regression.pdf)\n",
    "1. [Jovian's Linear Regression with Scikit Learn](https://jovian.ai/learn/machine-learning-with-python-zero-to-gbms/lesson/linear-regression-with-scikit-learn)"
   ]
  },
  {
   "cell_type": "markdown",
   "id": "0e1cad2f",
   "metadata": {},
   "source": [
    "## Further readings\n",
    "- [Jovian's Linear Regression with Scikit Learn](https://jovian.ai/learn/machine-learning-with-python-zero-to-gbms/lesson/linear-regression-with-scikit-learn)"
   ]
  }
 ],
 "metadata": {
  "kernelspec": {
   "display_name": "Python 3 (ipykernel)",
   "language": "python",
   "name": "python3"
  },
  "language_info": {
   "codemirror_mode": {
    "name": "ipython",
    "version": 3
   },
   "file_extension": ".py",
   "mimetype": "text/x-python",
   "name": "python",
   "nbconvert_exporter": "python",
   "pygments_lexer": "ipython3",
   "version": "3.8.11"
  }
 },
 "nbformat": 4,
 "nbformat_minor": 5
}

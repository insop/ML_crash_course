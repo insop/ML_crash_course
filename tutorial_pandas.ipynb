{
 "cells": [
  {
   "cell_type": "markdown",
   "id": "7789f04d",
   "metadata": {
    "slideshow": {
     "slide_type": "slide"
    }
   },
   "source": [
    "# Tutorial: Pandas"
   ]
  },
  {
   "cell_type": "markdown",
   "id": "2c5ffc25",
   "metadata": {
    "slideshow": {
     "slide_type": "skip"
    }
   },
   "source": [
    "[![Open In Colab](https://colab.research.google.com/assets/colab-badge.svg)](https://colab.research.google.com/github/insop/ML_crash_course/blob/main/tutorial_pandas.ipynb)"
   ]
  },
  {
   "cell_type": "markdown",
   "id": "69ada03d",
   "metadata": {
    "slideshow": {
     "slide_type": "slide"
    }
   },
   "source": [
    "[Pandas](https://pandas.pydata.org/) is python library for handling structured data, such as `csv` file input. We will review some of the basics of Pandas usage in this notebook."
   ]
  },
  {
   "cell_type": "markdown",
   "id": "e333534b",
   "metadata": {},
   "source": [
    "We will use covid case from Italy for this tutorial."
   ]
  },
  {
   "cell_type": "code",
   "execution_count": null,
   "id": "12ef1d95",
   "metadata": {},
   "outputs": [],
   "source": [
    "# load csv file and save locally\n",
    "from urllib.request import urlretrieve\n",
    "\n",
    "italy_covid_url = 'https://gist.githubusercontent.com/aakashns/f6a004fa20c84fec53262f9a8bfee775/raw/f309558b1cf5103424cef58e2ecb8704dcd4d74c/italy-covid-daywise.csv'\n",
    "\n",
    "urlretrieve(italy_covid_url, 'italy-covid-daywise.csv')"
   ]
  },
  {
   "cell_type": "code",
   "execution_count": null,
   "id": "1b8ba632",
   "metadata": {},
   "outputs": [],
   "source": [
    "# import pandas\n",
    "import pandas as pd\n",
    "\n",
    "# load as pandas 'dataframe'\n",
    "covid_df = pd.read_csv('italy-covid-daywise.csv')"
   ]
  },
  {
   "cell_type": "code",
   "execution_count": null,
   "id": "20cb3c21",
   "metadata": {
    "scrolled": true
   },
   "outputs": [],
   "source": [
    "# check the loaded data\n",
    "\n",
    "covid_df"
   ]
  },
  {
   "cell_type": "code",
   "execution_count": null,
   "id": "2d0dea04",
   "metadata": {
    "scrolled": false
   },
   "outputs": [],
   "source": [
    "# check the statistical summary, max, min, average...\n",
    "covid_df.describe()"
   ]
  },
  {
   "cell_type": "code",
   "execution_count": null,
   "id": "c8bdc146",
   "metadata": {},
   "outputs": [],
   "source": [
    "# handling column\n",
    "covid_df[\"new_cases\"] # or covid_df.new_cases"
   ]
  },
  {
   "cell_type": "code",
   "execution_count": null,
   "id": "afa77798",
   "metadata": {},
   "outputs": [],
   "source": [
    "# handling row\n",
    "covid_df.loc[247]"
   ]
  },
  {
   "cell_type": "code",
   "execution_count": null,
   "id": "83b5dc06",
   "metadata": {
    "scrolled": true
   },
   "outputs": [],
   "source": [
    "# create a new data frame\n",
    "\n",
    "cases_df = covid_df[['date', 'new_cases']]\n",
    "cases_df"
   ]
  },
  {
   "cell_type": "code",
   "execution_count": null,
   "id": "4b0c42a4",
   "metadata": {},
   "outputs": [],
   "source": [
    "# querying\n",
    "\n",
    "high_new_cases = covid_df.new_cases > 1000\n",
    "covid_df[high_new_cases] # or covid_df[covid_df.new_cases > 1000] "
   ]
  },
  {
   "cell_type": "markdown",
   "id": "f7cde082",
   "metadata": {},
   "source": [
    "## Credits\n",
    "\n",
    "This notebook is a condensed version of the excellent Pandas tutorial from Jovian.ai, [Pandas tutorial from Jovian](https://jovian.ai/learn/data-analysis-with-python-zero-to-pandas/lesson/lesson-4-analyzing-tabular-data-with-pandas)."
   ]
  },
  {
   "cell_type": "markdown",
   "id": "3879cc37",
   "metadata": {},
   "source": [
    "## References\n",
    "\n",
    "- [Pandas tutorial from Jovian](https://jovian.ai/learn/data-analysis-with-python-zero-to-pandas/lesson/lesson-4-analyzing-tabular-data-with-pandas)"
   ]
  }
 ],
 "metadata": {
  "kernelspec": {
   "display_name": "Python 3 (ipykernel)",
   "language": "python",
   "name": "python3"
  },
  "language_info": {
   "codemirror_mode": {
    "name": "ipython",
    "version": 3
   },
   "file_extension": ".py",
   "mimetype": "text/x-python",
   "name": "python",
   "nbconvert_exporter": "python",
   "pygments_lexer": "ipython3",
   "version": "3.8.8"
  }
 },
 "nbformat": 4,
 "nbformat_minor": 5
}
